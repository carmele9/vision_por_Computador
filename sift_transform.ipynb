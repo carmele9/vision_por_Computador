{
 "cells": [
  {
   "metadata": {},
   "cell_type": "markdown",
   "source": [
    "Quieres cambiar el tamaño y deseas ver los features. Reconocimiento de objetos, reconstrucción en 3d, juntar imagenes, navegación de robots. Características Invariantes a escala, rotación, transformaciones, iluminación. Util para diferentes vistas del mismo objetos.\n",
    "1. Identifica puntos claves que no varían en función del tamaño. Función de Gauss, + filtros para blurr. Se crea varias imagenes y se calcula la diferencia de esa, restando una y otra. Lo que se te queda son los potenciales key points.\n",
    "2. Se afina un poco más esos key points. Se aplica una función cuadrática para identificar su ubicación y su escala. Aquellos con contraste bajo o ubicación precisa se descarta.\n",
    "3. La asignación de orientación: Cada key point se le asigna una orientación en cuestión de gradientes. Esto se asegura que si la imagen rota, no varía. La dirección dominante se identifica alrededor de cada point y se crea histograma. El pico es la orientación final.\n",
    "4. Descriptor para cada key point: Vector que describe al key point: dim 128 a partir de las magnitudes del gradiente y las orientaciones y se normaliza.\n",
    "\n",
    "Limitaciones: Computacional, patentado"
   ],
   "id": "c8eb423a17d9e616"
  },
  {
   "metadata": {
    "ExecuteTime": {
     "end_time": "2025-06-04T18:29:33.110187Z",
     "start_time": "2025-06-04T18:29:33.079730Z"
    }
   },
   "cell_type": "code",
   "source": [
    "import numpy as np\n",
    "import cv2\n",
    "\n",
    "catedral_1 = cv2.imread(\"coliseo.jpg\")\n",
    "catedral_1_gray = cv2.cvtColor(catedral_1, cv2.COLOR_BGR2GRAY)\n",
    "#catedral_2 = cv2.imread(\"coliseo2.jpg\")\n",
    "#catedral_2 = cv2.resize(catedral_1, (300,200))\n",
    "catedral_2 = cv2.rotate(catedral_1, cv2.ROTATE_90_CLOCKWISE)\n",
    "catedral_2_gray = cv2.cvtColor(catedral_2, cv2.COLOR_BGR2GRAY)\n"
   ],
   "id": "initial_id",
   "outputs": [],
   "execution_count": 22
  },
  {
   "metadata": {
    "ExecuteTime": {
     "end_time": "2025-06-04T18:29:36.938057Z",
     "start_time": "2025-06-04T18:29:35.694803Z"
    }
   },
   "cell_type": "code",
   "source": [
    "sift = cv2.SIFT.create()\n",
    "Kp1 = sift.detect(catedral_1_gray, None)\n",
    "image_keyPoint1 = cv2.drawKeypoints(catedral_1_gray, Kp1, catedral_1)\n",
    "cv2.imshow(\"Imagen con KeyPoint\", image_keyPoint1)\n",
    "cv2.waitKey(0)\n",
    "cv2.destroyAllWindows()\n",
    "cv2.waitKey(1)"
   ],
   "id": "df4ad3bac6d22356",
   "outputs": [
    {
     "data": {
      "text/plain": [
       "-1"
      ]
     },
     "execution_count": 23,
     "metadata": {},
     "output_type": "execute_result"
    }
   ],
   "execution_count": 23
  },
  {
   "metadata": {
    "ExecuteTime": {
     "end_time": "2025-06-04T18:32:00.382326Z",
     "start_time": "2025-06-04T18:31:01.206321Z"
    }
   },
   "cell_type": "code",
   "source": [
    "K1, Des1 = sift.detectAndCompute(catedral_1_gray, None)\n",
    "K2, Des2 = sift.detectAndCompute(catedral_2_gray, None)\n",
    "\n",
    "# Comparador de fuerza bruta -> características de una imagen se adaptan a la otra, encontrar un match\n",
    "bf = cv2.BFMatcher(cv2.NORM_L1, crossCheck=True)\n",
    "matches = bf.match(Des1, Des2)\n",
    "matches = sorted(matches, key=lambda x: x.distance)\n",
    "comparativa = cv2.drawMatches(catedral_1_gray, K1, catedral_2_gray, K2, matches[200:500], catedral_2_gray, flags=2)\n",
    "cv2.imshow(\"Imagen con Matches\", comparativa)\n",
    "cv2.waitKey(0)\n",
    "cv2.destroyAllWindows()\n",
    "cv2.waitKey(1)\n"
   ],
   "id": "ce383c5b6e115f53",
   "outputs": [
    {
     "data": {
      "text/plain": [
       "-1"
      ]
     },
     "execution_count": 27,
     "metadata": {},
     "output_type": "execute_result"
    }
   ],
   "execution_count": 27
  },
  {
   "metadata": {},
   "cell_type": "code",
   "outputs": [],
   "execution_count": null,
   "source": "",
   "id": "9b1173804c7ba590"
  }
 ],
 "metadata": {
  "kernelspec": {
   "display_name": "Python 3",
   "language": "python",
   "name": "python3"
  },
  "language_info": {
   "codemirror_mode": {
    "name": "ipython",
    "version": 2
   },
   "file_extension": ".py",
   "mimetype": "text/x-python",
   "name": "python",
   "nbconvert_exporter": "python",
   "pygments_lexer": "ipython2",
   "version": "2.7.6"
  }
 },
 "nbformat": 4,
 "nbformat_minor": 5
}
