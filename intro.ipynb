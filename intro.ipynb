{
 "cells": [
  {
   "cell_type": "code",
   "id": "initial_id",
   "metadata": {
    "collapsed": true,
    "ExecuteTime": {
     "end_time": "2025-02-19T19:20:42.529386Z",
     "start_time": "2025-02-19T19:20:42.401248Z"
    }
   },
   "source": [
    "import cv2\n",
    "\n",
    "image = cv2.imread(\"img_naturaleza.jpg\") # Leer Imagen\n",
    "h, w = image.shape[:2] # Tamaño de la imagen\n",
    "print(\"Altura: {}, Ancho: {}\".format(h,w))"
   ],
   "outputs": [
    {
     "name": "stdout",
     "output_type": "stream",
     "text": [
      "Altura: 2160, Ancho: 3840\n"
     ]
    }
   ],
   "execution_count": 1
  },
  {
   "metadata": {},
   "cell_type": "code",
   "source": [
    "(B, G, R) = image[1534, 1000]\n",
    "print(\"Red: {}, Green: {}, Blue: {}\".format(R, G, B))"
   ],
   "id": "f55b86dee14cd8fb",
   "outputs": [],
   "execution_count": null
  },
  {
   "metadata": {},
   "cell_type": "code",
   "source": [
    "B = image[1567,1003, 0] # Si solo quieres un color\n",
    "print(B)"
   ],
   "id": "56e327aedb298f56",
   "outputs": [],
   "execution_count": null
  },
  {
   "metadata": {},
   "cell_type": "code",
   "source": [
    "# Region Of Interest\n",
    "roi = image[1000:2000, 1000:2160]\n",
    "cv2.imshow(\"Region Of Interest\", roi)\n",
    "cv2.waitKey(0)\n",
    "cv2.destroyAllWindows()\n",
    "cv2.waitKey(1)"
   ],
   "id": "3dd062bfc1dba0c7",
   "outputs": [],
   "execution_count": null
  },
  {
   "metadata": {},
   "cell_type": "code",
   "source": [
    "# Resize\n",
    "resize = cv2.resize(image, (1000, 500))\n",
    "cv2.imshow(\"Resize Smaller\", resize)\n",
    "cv2.waitKey(0)\n",
    "cv2.destroyAllWindows()\n",
    "cv2.waitKey(1)\n",
    "resize_big = cv2.resize(image, (2000, 3000))\n",
    "cv2.imshow(\"Resize Bigger\", resize_big)\n",
    "cv2.waitKey(0)\n",
    "cv2.destroyAllWindows()\n",
    "cv2.waitKey(1)"
   ],
   "id": "463436776686bee1",
   "outputs": [],
   "execution_count": null
  },
  {
   "metadata": {
    "ExecuteTime": {
     "end_time": "2025-02-19T19:21:08.186354Z",
     "start_time": "2025-02-19T19:21:05.009913Z"
    }
   },
   "cell_type": "code",
   "source": [
    "# Evitar deformaciones con el resize\n",
    "ratio = 800/w\n",
    "dim = (800, int(h*ratio))\n",
    "resize_aspect = cv2.resize(image, dim)\n",
    "cv2.imshow(\"Resize Mainting the ratio\", resize_aspect)\n",
    "cv2.waitKey(0)\n",
    "cv2.destroyAllWindows()\n",
    "cv2.waitKey(1)"
   ],
   "id": "b7fbfc5030064031",
   "outputs": [
    {
     "data": {
      "text/plain": [
       "-1"
      ]
     },
     "execution_count": 3,
     "metadata": {},
     "output_type": "execute_result"
    }
   ],
   "execution_count": 3
  },
  {
   "metadata": {
    "ExecuteTime": {
     "end_time": "2025-02-19T19:25:24.680308Z",
     "start_time": "2025-02-19T19:24:39.937808Z"
    }
   },
   "cell_type": "code",
   "source": [
    "# Dibujar rectangulo en la imagen\n",
    "output = resize_aspect.copy()\n",
    "rectangle = cv2.rectangle(output, (500,100), (600, 300), (255, 235, 230), 3) #  Bottom_left, Top_Right\n",
    "cv2.imshow(\"Rectangle\", output)\n",
    "cv2.waitKey(0)\n",
    "cv2.destroyAllWindows()\n",
    "cv2.waitKey(1)\n"
   ],
   "id": "a2134c79c7eeb7d",
   "outputs": [
    {
     "data": {
      "text/plain": [
       "-1"
      ]
     },
     "execution_count": 9,
     "metadata": {},
     "output_type": "execute_result"
    }
   ],
   "execution_count": 9
  },
  {
   "metadata": {
    "ExecuteTime": {
     "end_time": "2025-02-19T19:30:16.587462Z",
     "start_time": "2025-02-19T19:30:02.689169Z"
    }
   },
   "cell_type": "code",
   "source": [
    "# Añadir texto\n",
    "output = resize_aspect.copy()\n",
    "text = cv2.putText(output, \"Hello World\", (500, 100), cv2.FONT_HERSHEY_TRIPLEX, 0.75, (100, 255, 120), 1)\n",
    "cv2.imshow(\"Text\", output)\n",
    "cv2.waitKey(0)\n",
    "cv2.destroyAllWindows()\n",
    "cv2.waitKey(1)"
   ],
   "id": "6d29b8ed9f7ec584",
   "outputs": [
    {
     "data": {
      "text/plain": [
       "-1"
      ]
     },
     "execution_count": 14,
     "metadata": {},
     "output_type": "execute_result"
    }
   ],
   "execution_count": 14
  },
  {
   "metadata": {
    "ExecuteTime": {
     "end_time": "2025-02-19T19:34:00.249351Z",
     "start_time": "2025-02-19T19:33:59.187633Z"
    }
   },
   "cell_type": "code",
   "source": [
    "# imread con escala de grises incluidos\n",
    "img = cv2.imread(\"casa_rural.jpg\", cv2.IMREAD_GRAYSCALE)\n",
    "cv2.imshow(\"Imagen en Grises\", img)\n",
    "cv2.waitKey(0)\n",
    "cv2.destroyAllWindows()\n",
    "cv2.waitKey(1)"
   ],
   "id": "5644b0a845a02aac",
   "outputs": [
    {
     "data": {
      "text/plain": [
       "-1"
      ]
     },
     "execution_count": 18,
     "metadata": {},
     "output_type": "execute_result"
    }
   ],
   "execution_count": 18
  },
  {
   "metadata": {
    "ExecuteTime": {
     "end_time": "2025-02-19T19:35:32.472930Z",
     "start_time": "2025-02-19T19:35:32.457595Z"
    }
   },
   "cell_type": "code",
   "source": [
    "# Guardar imagen\n",
    "cv2.imwrite(\"casa_rural_gris.jpg\", img)"
   ],
   "id": "1e7fa45122607fb5",
   "outputs": [
    {
     "data": {
      "text/plain": [
       "True"
      ]
     },
     "execution_count": 19,
     "metadata": {},
     "output_type": "execute_result"
    }
   ],
   "execution_count": 19
  },
  {
   "metadata": {
    "ExecuteTime": {
     "end_time": "2025-02-19T19:47:38.430639Z",
     "start_time": "2025-02-19T19:47:24.528879Z"
    }
   },
   "cell_type": "code",
   "source": [
    "# Separación por colores\n",
    "imagen_colores= cv2.imread(\"imagen_colores.jpg\")\n",
    "cv2.imshow(\"Imagen\", imagen_colores)\n",
    "cv2.waitKey(0)\n",
    "cv2.destroyAllWindows()\n",
    "cv2.waitKey(1)\n",
    "\n",
    "B, G, R = cv2.split(imagen_colores)\n",
    "cv2.imshow(\"Imagen\", B)\n",
    "cv2.waitKey(0)\n",
    "cv2.destroyAllWindows()\n",
    "cv2.waitKey(1)\n",
    "\n",
    "cv2.imshow(\"Imagen\", G)\n",
    "cv2.waitKey(0)\n",
    "cv2.destroyAllWindows()\n",
    "cv2.waitKey(1)\n",
    "\n",
    "cv2.imshow(\"Imagen\", R)\n",
    "cv2.waitKey(0)\n",
    "cv2.destroyAllWindows()\n",
    "cv2.waitKey(1)\n"
   ],
   "id": "fafddd15d20903ab",
   "outputs": [
    {
     "data": {
      "text/plain": [
       "-1"
      ]
     },
     "execution_count": 23,
     "metadata": {},
     "output_type": "execute_result"
    }
   ],
   "execution_count": 23
  },
  {
   "metadata": {
    "ExecuteTime": {
     "end_time": "2025-02-19T19:53:31.916267Z",
     "start_time": "2025-02-19T19:53:14.944690Z"
    }
   },
   "cell_type": "code",
   "source": [
    "# Operaciones Aritmeticas\n",
    "imagen_colores_dos = cv2.imread(\"imagen_colores_dos.jpg\")\n",
    "cv2.imshow(\"Imagen\", imagen_colores_dos)\n",
    "cv2.waitKey(0)\n",
    "cv2.destroyAllWindows()\n",
    "cv2.waitKey(1)\n",
    "\n",
    "sumar = cv2.add(imagen_colores, imagen_colores_dos)\n",
    "cv2.imshow(\"Imagen sumadas\", sumar)\n",
    "cv2.waitKey(0)\n",
    "cv2.destroyAllWindows()\n",
    "cv2.waitKey(1)\n",
    "\n",
    "sumar_con_pesos = cv2.addWeighted(imagen_colores, 0.25, imagen_colores_dos, 0.75, 0)\n",
    "cv2.imshow(\"Imagen Sumadas Con Pesos\", sumar_con_pesos)\n",
    "cv2.waitKey(0)\n",
    "cv2.destroyAllWindows()\n",
    "cv2.waitKey(1)\n"
   ],
   "id": "5f207a1de0c5f384",
   "outputs": [
    {
     "data": {
      "text/plain": [
       "-1"
      ]
     },
     "execution_count": 25,
     "metadata": {},
     "output_type": "execute_result"
    }
   ],
   "execution_count": 25
  },
  {
   "metadata": {
    "ExecuteTime": {
     "end_time": "2025-02-19T19:57:37.623245Z",
     "start_time": "2025-02-19T19:57:19.817294Z"
    }
   },
   "cell_type": "code",
   "source": [
    "imagen_b_n = cv2.imread(\"imagen_blanco_y_negro.jpg\")\n",
    "circu_b_n = cv2.imread(\"circunferencia_blanco_y_negro.jpg\")\n",
    "resta = cv2.subtract(imagen_b_n, circu_b_n)\n",
    "cv2.imshow(\"Imagen Restadas\", resta)\n",
    "cv2.waitKey(0)\n",
    "cv2.destroyAllWindows()\n",
    "cv2.waitKey(1)"
   ],
   "id": "4cc5cc6b1c2a8cb8",
   "outputs": [
    {
     "data": {
      "text/plain": [
       "-1"
      ]
     },
     "execution_count": 26,
     "metadata": {},
     "output_type": "execute_result"
    }
   ],
   "execution_count": 26
  }
 ],
 "metadata": {
  "kernelspec": {
   "display_name": "Python 3",
   "language": "python",
   "name": "python3"
  },
  "language_info": {
   "codemirror_mode": {
    "name": "ipython",
    "version": 2
   },
   "file_extension": ".py",
   "mimetype": "text/x-python",
   "name": "python",
   "nbconvert_exporter": "python",
   "pygments_lexer": "ipython2",
   "version": "2.7.6"
  }
 },
 "nbformat": 4,
 "nbformat_minor": 5
}
