{
 "cells": [
  {
   "cell_type": "code",
   "id": "initial_id",
   "metadata": {
    "collapsed": true
   },
   "source": [
    "import cv2\n",
    "from IPython.core.pylabtools import figsize\n",
    "from matplotlib.image import imread\n",
    "\n",
    "image = cv2.imread(\"img_naturaleza.jpg\") # Leer Imagen\n",
    "h, w = image.shape[:2] # Tamaño de la imagen\n",
    "print(\"Altura: {}, Ancho: {}\".format(h,w))"
   ],
   "outputs": [],
   "execution_count": null
  },
  {
   "metadata": {},
   "cell_type": "code",
   "source": [
    "(B, G, R) = image[1534, 1000]\n",
    "print(\"Red: {}, Green: {}, Blue: {}\".format(R, G, B))"
   ],
   "id": "f55b86dee14cd8fb",
   "outputs": [],
   "execution_count": null
  },
  {
   "metadata": {},
   "cell_type": "code",
   "source": [
    "B = image[1567,1003, 0] # Si solo quieres un color\n",
    "print(B)"
   ],
   "id": "56e327aedb298f56",
   "outputs": [],
   "execution_count": null
  },
  {
   "metadata": {},
   "cell_type": "code",
   "source": [
    "# Region Of Interest\n",
    "roi = image[1000:2000, 1000:2160]\n",
    "cv2.imshow(\"Region Of Interest\", roi)\n",
    "cv2.waitKey(0)\n",
    "cv2.destroyAllWindows()\n",
    "cv2.waitKey(1)"
   ],
   "id": "3dd062bfc1dba0c7",
   "outputs": [],
   "execution_count": null
  },
  {
   "metadata": {},
   "cell_type": "code",
   "source": [
    "# Resize\n",
    "resize = cv2.resize(image, (1000, 500))\n",
    "cv2.imshow(\"Resize Smaller\", resize)\n",
    "cv2.waitKey(0)\n",
    "cv2.destroyAllWindows()\n",
    "cv2.waitKey(1)\n",
    "resize_big = cv2.resize(image, (2000, 3000))\n",
    "cv2.imshow(\"Resize Bigger\", resize_big)\n",
    "cv2.waitKey(0)\n",
    "cv2.destroyAllWindows()\n",
    "cv2.waitKey(1)"
   ],
   "id": "463436776686bee1",
   "outputs": [],
   "execution_count": null
  },
  {
   "metadata": {},
   "cell_type": "code",
   "source": [
    "# Evitar deformaciones con el resize\n",
    "ratio = 800/w\n",
    "dim = (800, int(h*ratio))\n",
    "resize_aspect = cv2.resize(image, dim)\n",
    "cv2.imshow(\"Resize Minting the ratio\", resize_aspect)\n",
    "cv2.waitKey(0)\n",
    "cv2.destroyAllWindows()\n",
    "cv2.waitKey(1)"
   ],
   "id": "b7fbfc5030064031",
   "outputs": [],
   "execution_count": null
  },
  {
   "metadata": {},
   "cell_type": "code",
   "source": [
    "# Dibujar rectangulo en la imagen\n",
    "output = resize_aspect.copy()\n",
    "rectangle = cv2.rectangle(output, (500,100), (600, 300), (255, 235, 230), 3) #  Bottom_left, Top_Right\n",
    "cv2.imshow(\"Rectangle\", output)\n",
    "cv2.waitKey(0)\n",
    "cv2.destroyAllWindows()\n",
    "cv2.waitKey(1)\n"
   ],
   "id": "a2134c79c7eeb7d",
   "outputs": [],
   "execution_count": null
  },
  {
   "metadata": {},
   "cell_type": "code",
   "source": [
    "# Añadir texto\n",
    "output = resize_aspect.copy()\n",
    "text = cv2.putText(output, \"Hello World\", (500, 100), cv2.FONT_HERSHEY_TRIPLEX, 0.75, (100, 255, 120), 1)\n",
    "cv2.imshow(\"Text\", output)\n",
    "cv2.waitKey(0)\n",
    "cv2.destroyAllWindows()\n",
    "cv2.waitKey(1)"
   ],
   "id": "6d29b8ed9f7ec584",
   "outputs": [],
   "execution_count": null
  },
  {
   "metadata": {},
   "cell_type": "code",
   "source": [
    "# imread con escala de grises incluidos\n",
    "img = cv2.imread(\"casa_rural.jpg\", cv2.IMREAD_GRAYSCALE)\n",
    "cv2.imshow(\"Imagen en Grises\", img)\n",
    "cv2.waitKey(0)\n",
    "cv2.destroyAllWindows()\n",
    "cv2.waitKey(1)"
   ],
   "id": "5644b0a845a02aac",
   "outputs": [],
   "execution_count": null
  },
  {
   "metadata": {},
   "cell_type": "code",
   "source": [
    "# Guardar imagen\n",
    "cv2.imwrite(\"casa_rural_gris.jpg\", img)"
   ],
   "id": "1e7fa45122607fb5",
   "outputs": [],
   "execution_count": null
  },
  {
   "metadata": {},
   "cell_type": "code",
   "source": [
    "# Separación por colores\n",
    "imagen_colores= cv2.imread(\"imagen_colores.jpg\")\n",
    "cv2.imshow(\"Imagen\", imagen_colores)\n",
    "cv2.waitKey(0)\n",
    "cv2.destroyAllWindows()\n",
    "cv2.waitKey(1)\n",
    "\n",
    "B, G, R = cv2.split(imagen_colores)\n",
    "cv2.imshow(\"Imagen\", B)\n",
    "cv2.waitKey(0)\n",
    "cv2.destroyAllWindows()\n",
    "cv2.waitKey(1)\n",
    "\n",
    "cv2.imshow(\"Imagen\", G)\n",
    "cv2.waitKey(0)\n",
    "cv2.destroyAllWindows()\n",
    "cv2.waitKey(1)\n",
    "\n",
    "cv2.imshow(\"Imagen\", R)\n",
    "cv2.waitKey(0)\n",
    "cv2.destroyAllWindows()\n",
    "cv2.waitKey(1)\n"
   ],
   "id": "fafddd15d20903ab",
   "outputs": [],
   "execution_count": null
  },
  {
   "metadata": {},
   "cell_type": "code",
   "source": [
    "# Operaciones Aritmeticas\n",
    "imagen_colores_dos = cv2.imread(\"imagen_colores_dos.jpg\")\n",
    "cv2.imshow(\"Imagen\", imagen_colores_dos)\n",
    "cv2.waitKey(0)\n",
    "cv2.destroyAllWindows()\n",
    "cv2.waitKey(1)\n",
    "\n",
    "sumar = cv2.add(imagen_colores, imagen_colores_dos)\n",
    "cv2.imshow(\"Imagen sumadas\", sumar)\n",
    "cv2.waitKey(0)\n",
    "cv2.destroyAllWindows()\n",
    "cv2.waitKey(1)\n",
    "\n",
    "sumar_con_pesos = cv2.addWeighted(imagen_colores, 0.25, imagen_colores_dos, 0.75, 0)\n",
    "cv2.imshow(\"Imagen Sumadas Con Pesos\", sumar_con_pesos)\n",
    "cv2.waitKey(0)\n",
    "cv2.destroyAllWindows()\n",
    "cv2.waitKey(1)\n"
   ],
   "id": "5f207a1de0c5f384",
   "outputs": [],
   "execution_count": null
  },
  {
   "metadata": {},
   "cell_type": "code",
   "source": [
    "imagen_b_n = cv2.imread(\"imagen_blanco_y_negro.jpg\")\n",
    "circu_b_n = cv2.imread(\"circunferencia_blanco_y_negro.jpg\")\n",
    "resta = cv2.subtract(imagen_b_n, circu_b_n)\n",
    "cv2.imshow(\"Imagen Restadas\", resta)\n",
    "cv2.waitKey(0)\n",
    "cv2.destroyAllWindows()\n",
    "cv2.waitKey(1)"
   ],
   "id": "4cc5cc6b1c2a8cb8",
   "outputs": [],
   "execution_count": null
  },
  {
   "metadata": {},
   "cell_type": "code",
   "source": [
    "# Operaciones Lógicas\n",
    "\n",
    "imagen_mitades = cv2.imread(\"imagen_mitades.jpg\")\n",
    "circulo_blanco = cv2.imread(\"imagencirculo_blanco.jpg\")\n",
    "dest_and = cv2.bitwise_and(imagen_mitades, circulo_blanco, mask=None) # Solo te deja en blanco, aquello en donde coincide\n",
    "cv2.imshow(\"Imagen Con And\", dest_and)\n",
    "cv2.waitKey(0)\n",
    "cv2.destroyAllWindows()\n",
    "cv2.waitKey(1)"
   ],
   "id": "59ef9011a52df7ff",
   "outputs": [],
   "execution_count": null
  },
  {
   "metadata": {},
   "cell_type": "code",
   "source": [
    "dest_or = cv2.bitwise_or(imagen_mitades, circulo_blanco, mask=None) # Solo te deja en blanco, cuando alguno sea blanca\n",
    "cv2.imshow(\"Imagen Con Or\", dest_or)\n",
    "cv2.waitKey(0)\n",
    "cv2.destroyAllWindows()\n",
    "cv2.waitKey(1)"
   ],
   "id": "6c1ec47abb59d1f2",
   "outputs": [],
   "execution_count": null
  },
  {
   "metadata": {},
   "cell_type": "code",
   "source": [
    "dest_xor = cv2.bitwise_xor(imagen_mitades, circulo_blanco, mask=None) # Uno u Otro, Te hace la operación Or Exclusivo\n",
    "cv2.imshow(\"Imagen Con Xor\", dest_xor)\n",
    "cv2.waitKey(0)\n",
    "cv2.destroyAllWindows()\n",
    "cv2.waitKey(1)"
   ],
   "id": "19ad0d62ae571ae7",
   "outputs": [],
   "execution_count": null
  },
  {
   "metadata": {},
   "cell_type": "code",
   "source": [
    "dest_not = cv2.bitwise_not(circulo_blanco, mask=None) # Solo te deja en blanco, aquello en donde coincide\n",
    "cv2.imshow(\"Imagen Con Not\", dest_not)\n",
    "cv2.waitKey(0)\n",
    "cv2.destroyAllWindows()\n",
    "cv2.waitKey(1)"
   ],
   "id": "eb0471ff0613f763",
   "outputs": [],
   "execution_count": null
  },
  {
   "metadata": {},
   "cell_type": "code",
   "source": [
    "# Erosión\n",
    "import numpy as np\n",
    "\n",
    "imagen_zara = cv2.imread(\"ZARA-logotipo.jpg\")\n",
    "# Va colocando la matriz en cada pixel y evalua si es blanco o negro, y dependiendo del resultado te los \"erosiona\"\n",
    "# Si son negros, erosiona los de alrededor, si no, no\n",
    "\n",
    "kernel = np.ones((7,7), np.uint8)\n",
    "imagen_eroded = cv2.erode(imagen_zara, kernel)\n",
    "cv2.imshow(\"Imagen Erosionada\", imagen_eroded)\n",
    "cv2.waitKey(0)\n",
    "cv2.destroyAllWindows()\n",
    "cv2.waitKey(1)"
   ],
   "id": "ef9ac526c2389072",
   "outputs": [],
   "execution_count": null
  },
  {
   "metadata": {},
   "cell_type": "code",
   "source": [
    "# Gaussiano Blur\n",
    "gauss_blur = cv2.GaussianBlur(circu_b_n, (7,7), 0)\n",
    "cv2.imshow(\"Imagen Con Gauss\", gauss_blur)\n",
    "cv2.waitKey(0)\n",
    "cv2.destroyAllWindows()\n",
    "cv2.waitKey(1)"
   ],
   "id": "d4adb83c4e3b6cc2",
   "outputs": [],
   "execution_count": null
  },
  {
   "metadata": {},
   "cell_type": "code",
   "source": [
    "median_blur = cv2.medianBlur(circu_b_n, 5)\n",
    "cv2.imshow(\"Imagen Con Median\", median_blur)\n",
    "cv2.waitKey(0)\n",
    "cv2.destroyAllWindows()\n",
    "cv2.waitKey(1)"
   ],
   "id": "2c671865bc01299b",
   "outputs": [],
   "execution_count": null
  },
  {
   "metadata": {},
   "cell_type": "code",
   "source": [
    "bilateral_blur = cv2.bilateralFilter(circu_b_n, 9, 75,75)\n",
    "cv2.imshow(\"Imagen Con Bilateral\", bilateral_blur)\n",
    "cv2.waitKey(0)\n",
    "cv2.destroyAllWindows()\n",
    "cv2.waitKey(1)"
   ],
   "id": "a21b57ebfaf9fe34",
   "outputs": [],
   "execution_count": null
  },
  {
   "metadata": {},
   "cell_type": "code",
   "source": [
    "# Bordes\n",
    "imagen_casa_rural = cv2.imread(\"casa_rural.jpg\")\n",
    "borde_negro = cv2.copyMakeBorder(imagen_casa_rural, 10,10,10,10, cv2.BORDER_CONSTANT, None, value=0)\n",
    "cv2.imshow(\"Imagen Con Borde Negro\", borde_negro)\n",
    "cv2.waitKey(0)\n",
    "cv2.destroyAllWindows()\n",
    "cv2.waitKey(1)"
   ],
   "id": "100ae61a21c7db7d",
   "outputs": [],
   "execution_count": null
  },
  {
   "metadata": {},
   "cell_type": "code",
   "source": [
    "borde_reflect = cv2.copyMakeBorder(imagen_casa_rural, 100,100,50,50, cv2.BORDER_REFLECT)\n",
    "cv2.imshow(\"Imagen Con Borde Reflect\", borde_reflect)\n",
    "cv2.waitKey(0)\n",
    "cv2.destroyAllWindows()\n",
    "cv2.waitKey(1)"
   ],
   "id": "36aa04ae269b04a4",
   "outputs": [],
   "execution_count": null
  },
  {
   "metadata": {},
   "cell_type": "code",
   "source": [
    "# imread con escala de grises incluidos\n",
    "img = cv2.imread(\"casa_rural.jpg\", 0)\n",
    "cv2.imshow(\"Imagen en Grises\", img)\n",
    "cv2.waitKey(0)\n",
    "cv2.destroyAllWindows()\n",
    "cv2.waitKey(1)"
   ],
   "id": "bbdd550c0d62cfe6",
   "outputs": [],
   "execution_count": null
  },
  {
   "metadata": {},
   "cell_type": "code",
   "source": [
    "casa_HSV = cv2.cvtColor(imagen_casa_rural, cv2.COLOR_BGR2HSV)\n",
    "cv2.imshow(\"Imagen en HSV\", casa_HSV)\n",
    "cv2.waitKey(0)\n",
    "cv2.destroyAllWindows()\n",
    "cv2.waitKey(1)\n"
   ],
   "id": "802eff0062b3ce21",
   "outputs": [],
   "execution_count": null
  },
  {
   "metadata": {},
   "cell_type": "code",
   "source": [
    "casa_HSV = cv2.cvtColor(imagen_casa_rural, cv2.COLOR_BGR2YCrCb)\n",
    "cv2.imshow(\"Imagen en HSV\", casa_HSV)\n",
    "cv2.waitKey(0)\n",
    "cv2.destroyAllWindows()\n",
    "cv2.waitKey(1)"
   ],
   "id": "f9ec5c02e8e8a180",
   "outputs": [],
   "execution_count": null
  },
  {
   "metadata": {},
   "cell_type": "code",
   "source": [
    "casa_HSV = cv2.cvtColor(imagen_casa_rural, cv2.COLOR_BGR2Lab)\n",
    "cv2.imshow(\"Imagen en HSV\", casa_HSV)\n",
    "cv2.waitKey(0)\n",
    "cv2.destroyAllWindows()\n",
    "cv2.waitKey(1)"
   ],
   "id": "ac0f960051cd94d5",
   "outputs": [],
   "execution_count": null
  },
  {
   "metadata": {},
   "cell_type": "code",
   "source": [
    "# Convertirla a grises en manual\n",
    "(row, col) = imagen_casa_rural.shape[0:2]\n",
    "for i in range(row):\n",
    "    for j in range(col):\n",
    "        imagen_casa_rural[i,j] = sum(imagen_casa_rural[i,j]) * 0.33\n",
    "cv2.imshow(\"Imagen en Blanco_Negro Por Pixel\", imagen_casa_rural)\n",
    "cv2.waitKey(0)\n",
    "cv2.destroyAllWindows()\n",
    "cv2.waitKey(1)"
   ],
   "id": "23277b455aa19f22",
   "outputs": [],
   "execution_count": null
  },
  {
   "metadata": {},
   "cell_type": "code",
   "source": [
    "# Rotación de Imágenes\n",
    "centro = (imagen_colores.shape[1], imagen_colores.shape[0])\n",
    "angulo = -30\n",
    "escala = 1\n",
    "matriz_rotate = cv2.getRotationMatrix2D(centro, angulo, escala)\n",
    "imagen_girada = cv2.warpAffine(imagen_colores, matriz_rotate, (imagen_colores.shape[1], imagen_colores.shape[0]))\n",
    "cv2.imshow(\"Imagen Rotada\", imagen_girada)\n",
    "cv2.waitKey(0)\n",
    "cv2.destroyAllWindows()\n",
    "cv2.waitKey(1)"
   ],
   "id": "a166f40206fa240d",
   "outputs": [],
   "execution_count": null
  },
  {
   "metadata": {},
   "cell_type": "code",
   "source": [
    "# Traslación: matriz de 2*3\n",
    "wide = imagen_colores.shape[1]\n",
    "height = imagen_colores.shape[0]\n",
    "tx = 100\n",
    "ty = 70\n",
    "matriz_translacion = np.array([[1,0,tx],[0,1,ty]], dtype=np.float32)\n",
    "imagen_trasladada = cv2.warpAffine(imagen_colores, matriz_translacion, (wide, height))\n",
    "cv2.imshow(\"Imagen Trasladada\", imagen_trasladada)\n",
    "cv2.waitKey(0)\n",
    "cv2.destroyAllWindows()\n",
    "cv2.waitKey(1)"
   ],
   "id": "2bd8e0e2e07951b5",
   "outputs": [],
   "execution_count": null
  },
  {
   "metadata": {},
   "cell_type": "code",
   "source": [
    "# Shear Image: Cizalla como si la recortases\n",
    "wide = imagen_casa_rural.shape[1]\n",
    "height = imagen_casa_rural.shape[0]\n",
    "shearx = -0.15\n",
    "sheary = 0\n",
    "matriz_shear = np.array([[1, shearx, 0],[0,1,sheary]], dtype=np.float32)\n",
    "imagen_sheared= cv2.warpAffine(imagen_casa_rural, matriz_shear, (wide, height))\n",
    "cv2.imshow(\"Imagen Sheared\", imagen_sheared)\n",
    "cv2.waitKey(0)\n",
    "cv2.destroyAllWindows()\n",
    "cv2.waitKey(1)"
   ],
   "id": "d82f211b3f474fcb",
   "outputs": [],
   "execution_count": null
  },
  {
   "metadata": {},
   "cell_type": "code",
   "source": [
    "# Normalizar la imagen dentro de un rango de valores\n",
    "b, g, r = cv2.split(imagen_colores)\n",
    "minimo = 0\n",
    "maximo = 1\n",
    "norm_type = cv2.NORM_MINMAX\n",
    "b_norm = cv2.normalize(b.astype(\"float\"), None, minimo, maximo, norm_type)\n",
    "g_norm = cv2.normalize(g.astype(\"float\"), None, minimo, maximo, norm_type)\n",
    "r_norm = cv2.normalize(r.astype(\"float\"), None, minimo, maximo, norm_type)\n",
    "norm_image = cv2.merge((b_norm, g_norm, r_norm))\n",
    "cv2.imshow(\"Imagen Normalizada\", norm_image)\n",
    "cv2.waitKey(0)\n",
    "cv2.destroyAllWindows()\n",
    "cv2.waitKey(1)\n",
    "print(imagen_colores[:,:,0])\n",
    "print(norm_image[:,:,0])"
   ],
   "id": "414710adf44e99b5",
   "outputs": [],
   "execution_count": null
  },
  {
   "metadata": {},
   "cell_type": "code",
   "source": [
    "# Detección de bordes\n",
    "# Algoritmo Canny: El más común\n",
    "# 1º Te reduce el ruido: Gauss,\n",
    "# 2º Gradiente: Operador Sobel, se aplica supresión de los casos extremos,\n",
    "# 3º Umbral a ese gradiente: Umbral de histéresis, strong and weak (diferencia clara)\n",
    "# Si los píxeles no claros están conectados a un pixel que identifica como borde, es borde.\n",
    "\n",
    "import matplotlib.pyplot as plt\n",
    "\n",
    "imagen_rural_color = cv2.imread(\"casa_rural.jpg\")\n",
    "imagen_rural_rgb = cv2.cvtColor(imagen_rural_color, cv2.COLOR_BGR2RGB)\n",
    "edge = cv2.Canny(image = imagen_rural_color, threshold1=80, threshold2= 600) # Max y Min de umbrales\n",
    "fig, axes = plt.subplots(1,2,figsize = (7,4))\n",
    "axes[0].imshow(imagen_rural_color)\n",
    "axes[1].imshow(edge)\n",
    "for ax in axes:\n",
    "    ax.set_xticks([])\n",
    "    ax.set_yticks([])\n",
    "plt.tight_layout()\n",
    "plt.show()"
   ],
   "id": "7d8f36126fa3b3da",
   "outputs": [],
   "execution_count": null
  },
  {
   "metadata": {},
   "cell_type": "code",
   "source": [
    "# Dilatación de los bordes\n",
    "kernel = np.ones((3,3), np.uint8)\n",
    "dilated = cv2.dilate(imagen_zara, iterations=2, kernel=kernel)\n",
    "eroded = cv2.erode(imagen_zara, iterations=2, kernel=kernel)\n",
    "# Erosion + Dilatación\n",
    "opening = cv2.morphologyEx(imagen_zara, cv2.MORPH_OPEN, kernel)\n",
    "# Dilatación + Erosion\n",
    "closing = cv2.morphologyEx(imagen_zara, cv2.MORPH_CLOSE, kernel)\n",
    "\n",
    "fig, axes = plt.subplots(2,2, figsize = (7,7))\n",
    "axes[0,0].imshow(dilated)\n",
    "axes[0,1].imshow(eroded)\n",
    "axes[1,0].imshow(opening)\n",
    "axes[1,1].imshow(closing)\n",
    "axes[0,0].set_xticks([])\n",
    "axes[0,1].set_xticks([])\n",
    "axes[1,0].set_xticks([])\n",
    "axes[1,1].set_xticks([])\n",
    "axes[0,0].set_yticks([])\n",
    "axes[0,1].set_yticks([])\n",
    "axes[1,0].set_yticks([])\n",
    "axes[1,1].set_yticks([])\n",
    "axes[0,0].set_title(\"Dilated\")\n",
    "axes[0,1].set_title(\"Eroded\")\n",
    "axes[1,0].set_title(\"Opening\")\n",
    "axes[1,1].set_title(\"Closing\")\n",
    "plt.tight_layout()\n",
    "cv2.imshow(\"imagen zara\", imagen_zara)\n",
    "cv2.waitKey(0)\n",
    "cv2.destroyAllWindows()\n",
    "cv2.waitKey(1)\n",
    "plt.show()\n"
   ],
   "id": "7c693ccced4ff6b5",
   "outputs": [],
   "execution_count": null
  },
  {
   "metadata": {},
   "cell_type": "code",
   "source": [
    "from PIL import Image\n",
    "\n",
    "img = Image.open(r\"imagen_colores.jpg\")\n",
    "# Transformación de la imagen aplicando una matriz de colores, quitando canales,\n",
    "# cada canal esta diagonal y representa el RGB\n",
    "# Vamos a quitar en 1 respondent al canal verde\n",
    "matriz = (1,0,0,0,\n",
    "          0,0,0,0,\n",
    "          0,0,1,0)\n",
    "\n",
    "img = img.convert(\"RGB\", matriz)\n",
    "img.show()"
   ],
   "id": "895ecf46e7210eb5",
   "outputs": [],
   "execution_count": null
  },
  {
   "metadata": {},
   "cell_type": "code",
   "source": [
    "# Histogramas: Intensidad del píxel\n",
    "# Te da una cuenta de píxeles de la imagen,\n",
    "# En caso de que haya más de un canal, se concatenan\n",
    "# En escala de grises, se ve mejor la intensidad del píxel\n",
    "\n",
    "hist = cv2.calcHist([imagen_casa_rural], [0], None, [256], [0,256])\n",
    "plt.plot(hist)\n",
    "plt.show()"
   ],
   "id": "a2c45f82a0ab0ec0",
   "outputs": [],
   "execution_count": null
  },
  {
   "metadata": {},
   "cell_type": "code",
   "source": [
    "# Los histogramas sirven para aumentar el contraste de la imagen\n",
    "# La equalization te distribuye mejor los píxeles\n",
    "grayimg = cv2.cvtColor(imagen_rural_color, cv2.COLOR_BGR2GRAY)\n",
    "equ = cv2.equalizeHist(grayimg)\n",
    "res = np.hstack((grayimg, equ))\n",
    "cv2.imshow(\"Imagen Con Equalizer\", res)\n",
    "cv2.waitKey(0)\n",
    "cv2.destroyAllWindows()\n",
    "cv2.waitKey(1)"
   ],
   "id": "5373652ef1878e70",
   "outputs": [],
   "execution_count": null
  },
  {
   "metadata": {},
   "cell_type": "code",
   "source": [
    "# Una vez pasado a gris, no puedes recuperar el color\n",
    "\n",
    "img2color = cv2.cvtColor(equ, cv2.COLOR_GRAY2BGR)\n",
    "cv2.imshow(\"Imagen Con Equalizer\", img2color)\n",
    "cv2.waitKey(0)\n",
    "cv2.destroyAllWindows()\n",
    "cv2.waitKey(1)"
   ],
   "id": "db3d65988c4f6f4d",
   "outputs": [],
   "execution_count": null
  },
  {
   "metadata": {},
   "cell_type": "code",
   "source": [
    "edge = cv2.Canny(image = img2color, threshold1=80, threshold2= 600) # Max y Min de umbrales\n",
    "fig, axes = plt.subplots(1,2,figsize = (7,4))\n",
    "axes[0].imshow(img2color)\n",
    "axes[1].imshow(edge)\n",
    "for ax in axes:\n",
    "    ax.set_xticks([])\n",
    "    ax.set_yticks([])\n",
    "plt.tight_layout()\n",
    "plt.show()"
   ],
   "id": "b1f1c7bd0bc11945",
   "outputs": [],
   "execution_count": null
  },
  {
   "metadata": {},
   "cell_type": "code",
   "source": [
    "# Thresholding:\n",
    "# Te compara un pixel, con un umbral:pixel > umbral -> 1, pixel < umbral -> valor max = 255\n",
    "# Simple = Binary, Invertido, Trunca, Menor Intensidad al Umbral -> 0 y el Invertido a esto\n",
    "\n",
    "imagen_logo = cv2.imread(\"LOGOS-FONDO-BLANCO.png\")\n",
    "img_logo_gray = cv2.cvtColor(imagen_logo, cv2.COLOR_BGR2GRAY)\n",
    "ret, umbral1 = cv2.threshold(img_logo_gray, 120, 255, cv2.THRESH_BINARY)\n",
    "cv2.imshow(\"Imagen Con Threshold Binary\", umbral1)\n",
    "cv2.waitKey(0)\n",
    "cv2.destroyAllWindows()\n",
    "cv2.waitKey(1)\n"
   ],
   "id": "c22b4fa1710c93e5",
   "outputs": [],
   "execution_count": null
  },
  {
   "metadata": {},
   "cell_type": "code",
   "source": [
    "# Threshold Binario Invertido\n",
    "ret, umbral1 = cv2.threshold(img_logo_gray, 120, 255, cv2.THRESH_BINARY_INV)\n",
    "cv2.imshow(\"Imagen Con Threshold Binary Invertido\", umbral1)\n",
    "cv2.waitKey(0)\n",
    "cv2.destroyAllWindows()\n",
    "cv2.waitKey(1)"
   ],
   "id": "94b33694fc1c4fc5",
   "outputs": [],
   "execution_count": null
  },
  {
   "metadata": {},
   "cell_type": "code",
   "source": [
    "# Threshold Truncado\n",
    "ret, umbral1 = cv2.threshold(img_logo_gray, 120, 255, cv2.THRESH_TRUNC)\n",
    "cv2.imshow(\"Imagen Con Threshold Truncado\", umbral1)\n",
    "cv2.waitKey(0)\n",
    "cv2.destroyAllWindows()\n",
    "cv2.waitKey(1)\n"
   ],
   "id": "a271decfaf0d038a",
   "outputs": [],
   "execution_count": null
  },
  {
   "metadata": {},
   "cell_type": "code",
   "source": [
    "# Threshold to zero\n",
    "ret, umbral1 = cv2.threshold(img_logo_gray, 120, 255, cv2.THRESH_TOZERO)\n",
    "cv2.imshow(\"Imagen Con Threshold To Zero\", umbral1)\n",
    "cv2.waitKey(0)\n",
    "cv2.destroyAllWindows()\n",
    "cv2.waitKey(1)"
   ],
   "id": "98079b76d2d9f241",
   "outputs": [],
   "execution_count": null
  },
  {
   "metadata": {},
   "cell_type": "code",
   "source": [
    "# Threshold to zero invertido\n",
    "ret, umbral1 = cv2.threshold(img_logo_gray, 120, 255, cv2.THRESH_TOZERO_INV)\n",
    "cv2.imshow(\"Imagen Con Threshold to zero Invertido\", umbral1)\n",
    "cv2.waitKey(0)\n",
    "cv2.destroyAllWindows()\n",
    "cv2.waitKey(1)"
   ],
   "id": "a6a6db1bdc2e7b31",
   "outputs": [],
   "execution_count": null
  },
  {
   "metadata": {},
   "cell_type": "code",
   "source": [
    "# Umbrales Adaptativos\n",
    "# umbral se calcula para pequeñas regiones (sombras por ejemplo)\n",
    "# Mean y Gaussian\n",
    "imagen_libro_sombras = cv2.imread(\"libro_sombra.jpg\")\n",
    "imagen_apuntes_mates_sombras = cv2.imread(\"apuntes_mates_sombra.jpg\")\n",
    "img_libro_sombras_gray = cv2.cvtColor(imagen_libro_sombras, cv2.COLOR_BGR2GRAY)\n",
    "# Evitar deformaciones con el resize\n",
    "h, w = imagen_apuntes_mates_sombras.shape[:2] # Tamaño de la imagen\n",
    "ratio = 300/w\n",
    "dim = (300, int(h*ratio))\n",
    "imagen_apuntes_mates_sombras_resize = cv2.resize(imagen_apuntes_mates_sombras, dim)\n",
    "imagen_apuntes_mates_sombras_gray = cv2.cvtColor(imagen_apuntes_mates_sombras_resize, cv2.COLOR_BGR2GRAY)\n",
    "thres_mean_libro = cv2.adaptiveThreshold(img_libro_sombras_gray, 255, cv2.ADAPTIVE_THRESH_MEAN_C, cv2.THRESH_BINARY, 199, 5)\n",
    "thres_gauss_libro = cv2.adaptiveThreshold(img_libro_sombras_gray, 255, cv2.ADAPTIVE_THRESH_GAUSSIAN_C, cv2.THRESH_BINARY, 199, 5)\n",
    "thres_mean_apuntes = cv2.adaptiveThreshold(imagen_apuntes_mates_sombras_gray, 255, cv2.ADAPTIVE_THRESH_MEAN_C, cv2.THRESH_BINARY, 199, 5)\n",
    "thres_gauss_apuntes = cv2.adaptiveThreshold(imagen_apuntes_mates_sombras_gray, 255, cv2.ADAPTIVE_THRESH_GAUSSIAN_C, cv2.THRESH_BINARY, 199, 5)\n",
    "thres_mean_casa =  cv2.adaptiveThreshold(grayimg, 255, cv2.ADAPTIVE_THRESH_MEAN_C, cv2.THRESH_BINARY, 199, 5)\n",
    "thres_gauss_casa =  cv2.adaptiveThreshold(grayimg, 255, cv2.ADAPTIVE_THRESH_GAUSSIAN_C, cv2.THRESH_BINARY, 199, 5)\n",
    "cv2.imshow(\"Imagen Con Threshold Adaptativo Mean\", thres_mean_libro)\n",
    "cv2.waitKey(0)\n",
    "cv2.destroyAllWindows()\n",
    "cv2.waitKey(1)\n",
    "cv2.imshow(\"Imagen Con Threshold Adaptativo Mean\", thres_mean_apuntes)\n",
    "cv2.waitKey(0)\n",
    "cv2.destroyAllWindows()\n",
    "cv2.waitKey(1)\n",
    "cv2.imshow(\"Imagen Con Threshold Adaptativo Gauss\", thres_gauss_libro)\n",
    "cv2.waitKey(0)\n",
    "cv2.destroyAllWindows()\n",
    "cv2.waitKey(1)\n",
    "cv2.imshow(\"Imagen Con Threshold Adaptativo Gauss\", thres_gauss_apuntes)\n",
    "cv2.waitKey(0)\n",
    "cv2.destroyAllWindows()\n",
    "cv2.waitKey(1)\n",
    "cv2.imshow(\"Imagen Con Threshold Adaptativo Mean\", thres_mean_casa)\n",
    "cv2.waitKey(0)\n",
    "cv2.destroyAllWindows()\n",
    "cv2.waitKey(1)\n",
    "cv2.imshow(\"Imagen Con Threshold Adaptativo Gauss\", thres_gauss_casa)\n",
    "cv2.waitKey(0)\n",
    "cv2.destroyAllWindows()\n",
    "cv2.waitKey(1)\n"
   ],
   "id": "e9455f8bd29d2ec0",
   "outputs": [],
   "execution_count": null
  },
  {
   "metadata": {},
   "cell_type": "code",
   "source": [
    "# Metodo de Otsu\n",
    "# Umbrales Simple --> Constante, Adaptive --> Por regiones, Otsu --> Se determina de forma automatic, bimodal, con dos valores, histograma con dos picos, y el umbral se escoge en un lugar entre los dos picos. Tiene que tener dos picos claros para que funcione bien\n",
    "imagen_logo_internet = cv2.imread(\"internet_explorer.jpg\")\n",
    "imagen_logo_internet_gray = cv2.cvtColor(imagen_logo_internet, cv2.COLOR_BGR2GRAY)\n",
    "hist_logo = cv2.calcHist([grayimg], [0], None, [256], [0,256])\n",
    "plt.plot(hist_logo)\n",
    "plt.show()"
   ],
   "id": "bb6720a6cd2c3d6b",
   "outputs": [],
   "execution_count": null
  },
  {
   "metadata": {},
   "cell_type": "code",
   "source": [
    "ret, thres_otsu = cv2.threshold(imagen_logo_internet_gray, 120, 255, cv2.THRESH_BINARY + cv2.THRESH_OTSU)\n",
    "cv2.imshow(\"Imagen Con Threshold Otsu\", thres_otsu)\n",
    "cv2.waitKey(0)\n",
    "cv2.destroyAllWindows()\n",
    "cv2.waitKey(1)\n",
    "# Segmentación\n",
    "# Separar un objeto del fondo"
   ],
   "id": "4278fa4210eaeea8",
   "outputs": [],
   "execution_count": null
  },
  {
   "metadata": {},
   "cell_type": "code",
   "source": [
    "# Encontrar Contornos\n",
    "# Una serie de bordes unidos de forma lineal\n",
    "# Identificarte coordenadas en la imagen\n",
    "# Util en las industrias para detectar defectos o componentes\n",
    "# Primero la convertimos en blanco y negro usando thresholding\n",
    "imagen_formas_geometricas = cv2.imread(\"formas_geometricas.jpg\")\n",
    "imagen_formas_geometricas_gray = cv2.cvtColor(imagen_formas_geometricas, cv2.COLOR_BGR2GRAY)\n",
    "_, thres_formas = cv2.threshold(imagen_formas_geometricas_gray, 220,255, cv2.THRESH_BINARY)\n",
    "contours, _ = cv2.findContours(thres_formas, cv2.RETR_TREE, cv2.CHAIN_APPROX_SIMPLE)\n",
    "for cnt in contours:\n",
    "    aprox = cv2.approxPolyDP(cnt, 0.009*cv2.arcLength(cnt,True), True)\n",
    "    cv2.drawContours(imagen_formas_geometricas, [aprox], 0, (0,0,255), 5)\n",
    "    n = aprox.ravel() # Array Continuo, Flatten\n",
    "    i = 0\n",
    "    for j in n:\n",
    "        if i % 2 == 0:\n",
    "            x = n[i]\n",
    "            y = n[i+1]\n",
    "            string = str(x) + \" \" + str(y)\n",
    "            if i == 0:\n",
    "                cv2.putText(imagen_formas_geometricas, \"Arrow tip\", (x,y), cv2.FONT_HERSHEY_COMPLEX, 0.5, (255,0,0))\n",
    "            else:\n",
    "                cv2.putText(imagen_formas_geometricas, string, (x,y), cv2.FONT_HERSHEY_COMPLEX, 0.5, (0,255,0))\n",
    "        i = i + 1\n",
    "cv2.imshow(\"Imagen Contornos\",imagen_formas_geometricas)\n",
    "cv2.waitKey(0)\n",
    "cv2.destroyAllWindows()\n",
    "cv2.waitKey(1)"
   ],
   "id": "c5954e8980a87c21",
   "outputs": [],
   "execution_count": null
  },
  {
   "metadata": {},
   "cell_type": "code",
   "source": [
    "# Retocar una imagen estropeada\n",
    "imagen_becquer = cv2.imread(\"imagen_becquer4.png\")\n",
    "heigth_bec, width_bec = imagen_becquer.shape[0], imagen_becquer.shape[1]\n",
    "# Vamos a convertir pixel mayor que 0 a negro, el negro se pasa a blanco\n",
    "# FF1DD3 --> [255, 29, 211]\n",
    "#\n",
    "for i in range (heigth_bec):\n",
    "    for j in range (width_bec):\n",
    "        if imagen_becquer[i,j][2] == [0] and imagen_becquer[i,j][1] == [0] and imagen_becquer[i,j][0]== [0]:\n",
    "            imagen_becquer[i,j] = [255,255,255]\n",
    "        else:\n",
    "            imagen_becquer[i,j] = 0\n",
    "\n",
    "mask = imagen_becquer\n",
    "cv2.imwrite(\"Mask.jpg\", mask)\n",
    "cv2.imshow(\"Imagen Becquer Mascara\",mask)\n",
    "cv2.waitKey(0)\n",
    "cv2.destroyAllWindows()\n",
    "cv2.waitKey(1)\n",
    "\n"
   ],
   "id": "637cf5a59687303e",
   "outputs": [],
   "execution_count": null
  },
  {
   "metadata": {},
   "cell_type": "code",
   "source": [
    "mask_grey = cv2.cvtColor(mask, cv2.COLOR_BGR2GRAY)\n",
    "imagen_becquer_color = cv2.imread(\"imagen_becquer4.png\")\n",
    "imagen_becquer_arreglada = cv2.inpaint(imagen_becquer_color, mask_grey, 50,cv2.INPAINT_TELEA) # NS -> Ecuaciones Diferenciales\n",
    "cv2.imwrite(\"Imagen_Becquer_Arreglada.png\", imagen_becquer_arreglada)\n",
    "cv2.imshow(\"Imagen Becquer Arreglada\", imagen_becquer_arreglada)\n",
    "cv2.waitKey(0)\n",
    "cv2.destroyAllWindows()\n",
    "cv2.waitKey(1)"
   ],
   "id": "3bf3a970a95a9926",
   "outputs": [],
   "execution_count": null
  },
  {
   "metadata": {},
   "cell_type": "code",
   "source": [
    "cv2.imshow(\"Imagen Becquer Mascara Grey\",mask_grey)\n",
    "cv2.waitKey(0)\n",
    "cv2.destroyAllWindows()\n",
    "cv2.waitKey(1)"
   ],
   "id": "fccad53551404acf",
   "outputs": [],
   "execution_count": null
  },
  {
   "metadata": {},
   "cell_type": "code",
   "source": [
    "# Transformaciones de Intensidad sin Fourier\n",
    "# Lineal, Inversion Log, Log, Gamma (exponencial), Identidad, Raíz cuadrada\n",
    "cv2.imshow(\"Imagen Paisaje\",resize_aspect)\n",
    "cv2.waitKey(0)\n",
    "cv2.destroyAllWindows()\n",
    "cv2.waitKey(1)"
   ],
   "id": "e2b52ee335a3b90f",
   "outputs": [],
   "execution_count": null
  },
  {
   "metadata": {},
   "cell_type": "code",
   "source": [
    "color = (\"b\", \"g\", \"r\")\n",
    "for i, col in enumerate(color):\n",
    "    hist = cv2.calcHist([resize_aspect], [i], None, [256], [0,256])\n",
    "    plt.plot(hist, color = col)\n",
    "    plt.xlim([0,256])\n",
    "plt.show()"
   ],
   "id": "73e9486a0bdb0977",
   "outputs": [],
   "execution_count": null
  },
  {
   "metadata": {},
   "cell_type": "code",
   "source": [
    "# Imagen Negativo = 1-Imagen\n",
    "imagen_paisaje_neg = 1-resize_aspect\n",
    "cv2.imshow(\"Imagen Paisaje Negada\",imagen_paisaje_neg)\n",
    "cv2.waitKey(0)\n",
    "cv2.destroyAllWindows()\n",
    "cv2.waitKey(1)"
   ],
   "id": "c37fa081574a907",
   "outputs": [],
   "execution_count": null
  },
  {
   "metadata": {},
   "cell_type": "code",
   "source": [
    "color = (\"b\", \"g\", \"r\")\n",
    "for i, col in enumerate(color):\n",
    "    hist = cv2.calcHist([imagen_paisaje_neg], [i], None, [256], [0,256])\n",
    "    plt.plot(hist, color = col)\n",
    "    plt.xlim([0,256])\n",
    "plt.show()"
   ],
   "id": "22cfc16560bb49bc",
   "outputs": [],
   "execution_count": null
  },
  {
   "metadata": {},
   "cell_type": "code",
   "source": [
    "# Log: s = c*log(1+r) r-> nivel de intensidad\n",
    "# c = 255/(log(1 + m)) m -> pixel de max value en la imagen\n",
    "# Te baja la intensidad de la imagen\n",
    "c = 255 / (np.log(1+np.max(resize_aspect)))\n",
    "log_trans = c*np.log(1+ resize_aspect)\n",
    "log_trans = np.array(log_trans, dtype=np.uint8)\n",
    "cv2.imshow(\"Imagen Paisaje Logarithmic\",log_trans)\n",
    "cv2.waitKey(0)\n",
    "cv2.destroyAllWindows()\n",
    "cv2.waitKey(1)"
   ],
   "id": "e5ebb1cae9563151",
   "outputs": [],
   "execution_count": null
  },
  {
   "metadata": {},
   "cell_type": "code",
   "source": [
    "# Gamma: Aumenta la intensidad, para pantalla en función de los settings\n",
    "# < 0 -> raiz cuadrado, > 0 -> potencia\n",
    "for gamma in [0.1, 0.5, 1.2, 2.2]:\n",
    "    gamma_trans = np.array(255*(resize_aspect/255)**gamma, dtype= np.uint8)\n",
    "    cv2.imshow(\"Imagen Paisaje Gamma\",gamma_trans)\n",
    "    cv2.waitKey(0)\n",
    "    cv2.destroyAllWindows()\n",
    "    cv2.waitKey(1)"
   ],
   "id": "e9c75be5aa21d6e4",
   "outputs": [],
   "execution_count": null
  },
  {
   "metadata": {},
   "cell_type": "code",
   "source": [
    "# Transformación a partes\n",
    "# Contraste\n",
    "def pixel_val(pix, r1, s1, r2, s2):\n",
    "    if (0<= pix) and (pix<= r1):\n",
    "        return (s1/r1)*pix\n",
    "    elif (r1<pix) and (pix <=r2):\n",
    "        return (s2-s1)/(r2-r1)*(pix-r1) + s1\n",
    "    else:\n",
    "        return (255-s2)/(255-r2)*(pix-r2)+s2"
   ],
   "id": "32c2326c7028b030",
   "outputs": [],
   "execution_count": null
  },
  {
   "metadata": {},
   "cell_type": "code",
   "source": [
    "r1 = 70\n",
    "s1 = 0\n",
    "r2 = 140\n",
    "s2 = 255\n",
    "\n",
    "pixel_val_vec = np.vectorize(pixel_val)\n",
    "contrast_expand = pixel_val_vec(resize_aspect, r1,s1,r2,s2)\n",
    "cv2.imshow(\"Imagen Paisaje Constraste por Partes\", contrast_expand)\n",
    "cv2.waitKey(0)\n",
    "cv2.destroyAllWindows()\n",
    "cv2.waitKey(1)\n"
   ],
   "id": "e55870810842e9d8",
   "outputs": [],
   "execution_count": null
  },
  {
   "metadata": {},
   "cell_type": "code",
   "source": "",
   "id": "22160b4744d23a37",
   "outputs": [],
   "execution_count": null
  },
  {
   "metadata": {},
   "cell_type": "code",
   "source": "",
   "id": "6f9f523212926714",
   "outputs": [],
   "execution_count": null
  }
 ],
 "metadata": {
  "kernelspec": {
   "display_name": "Python 3",
   "language": "python",
   "name": "python3"
  },
  "language_info": {
   "codemirror_mode": {
    "name": "ipython",
    "version": 2
   },
   "file_extension": ".py",
   "mimetype": "text/x-python",
   "name": "python",
   "nbconvert_exporter": "python",
   "pygments_lexer": "ipython2",
   "version": "2.7.6"
  }
 },
 "nbformat": 4,
 "nbformat_minor": 5
}
