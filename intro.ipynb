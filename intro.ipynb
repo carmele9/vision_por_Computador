{
 "cells": [
  {
   "cell_type": "code",
   "id": "initial_id",
   "metadata": {
    "collapsed": true
   },
   "source": [
    "import cv2\n",
    "from matplotlib.image import imread\n",
    "\n",
    "image = cv2.imread(\"img_naturaleza.jpg\") # Leer Imagen\n",
    "h, w = image.shape[:2] # Tamaño de la imagen\n",
    "print(\"Altura: {}, Ancho: {}\".format(h,w))"
   ],
   "outputs": [],
   "execution_count": null
  },
  {
   "metadata": {},
   "cell_type": "code",
   "source": [
    "(B, G, R) = image[1534, 1000]\n",
    "print(\"Red: {}, Green: {}, Blue: {}\".format(R, G, B))"
   ],
   "id": "f55b86dee14cd8fb",
   "outputs": [],
   "execution_count": null
  },
  {
   "metadata": {},
   "cell_type": "code",
   "source": [
    "B = image[1567,1003, 0] # Si solo quieres un color\n",
    "print(B)"
   ],
   "id": "56e327aedb298f56",
   "outputs": [],
   "execution_count": null
  },
  {
   "metadata": {},
   "cell_type": "code",
   "source": [
    "# Region Of Interest\n",
    "roi = image[1000:2000, 1000:2160]\n",
    "cv2.imshow(\"Region Of Interest\", roi)\n",
    "cv2.waitKey(0)\n",
    "cv2.destroyAllWindows()\n",
    "cv2.waitKey(1)"
   ],
   "id": "3dd062bfc1dba0c7",
   "outputs": [],
   "execution_count": null
  },
  {
   "metadata": {},
   "cell_type": "code",
   "source": [
    "# Resize\n",
    "resize = cv2.resize(image, (1000, 500))\n",
    "cv2.imshow(\"Resize Smaller\", resize)\n",
    "cv2.waitKey(0)\n",
    "cv2.destroyAllWindows()\n",
    "cv2.waitKey(1)\n",
    "resize_big = cv2.resize(image, (2000, 3000))\n",
    "cv2.imshow(\"Resize Bigger\", resize_big)\n",
    "cv2.waitKey(0)\n",
    "cv2.destroyAllWindows()\n",
    "cv2.waitKey(1)"
   ],
   "id": "463436776686bee1",
   "outputs": [],
   "execution_count": null
  },
  {
   "metadata": {},
   "cell_type": "code",
   "source": [
    "# Evitar deformaciones con el resize\n",
    "ratio = 800/w\n",
    "dim = (800, int(h*ratio))\n",
    "resize_aspect = cv2.resize(image, dim)\n",
    "cv2.imshow(\"Resize Mainting the ratio\", resize_aspect)\n",
    "cv2.waitKey(0)\n",
    "cv2.destroyAllWindows()\n",
    "cv2.waitKey(1)"
   ],
   "id": "b7fbfc5030064031",
   "outputs": [],
   "execution_count": null
  },
  {
   "metadata": {},
   "cell_type": "code",
   "source": [
    "# Dibujar rectangulo en la imagen\n",
    "output = resize_aspect.copy()\n",
    "rectangle = cv2.rectangle(output, (500,100), (600, 300), (255, 235, 230), 3) #  Bottom_left, Top_Right\n",
    "cv2.imshow(\"Rectangle\", output)\n",
    "cv2.waitKey(0)\n",
    "cv2.destroyAllWindows()\n",
    "cv2.waitKey(1)\n"
   ],
   "id": "a2134c79c7eeb7d",
   "outputs": [],
   "execution_count": null
  },
  {
   "metadata": {},
   "cell_type": "code",
   "source": [
    "# Añadir texto\n",
    "output = resize_aspect.copy()\n",
    "text = cv2.putText(output, \"Hello World\", (500, 100), cv2.FONT_HERSHEY_TRIPLEX, 0.75, (100, 255, 120), 1)\n",
    "cv2.imshow(\"Text\", output)\n",
    "cv2.waitKey(0)\n",
    "cv2.destroyAllWindows()\n",
    "cv2.waitKey(1)"
   ],
   "id": "6d29b8ed9f7ec584",
   "outputs": [],
   "execution_count": null
  },
  {
   "metadata": {},
   "cell_type": "code",
   "source": [
    "# imread con escala de grises incluidos\n",
    "img = cv2.imread(\"casa_rural.jpg\", cv2.IMREAD_GRAYSCALE)\n",
    "cv2.imshow(\"Imagen en Grises\", img)\n",
    "cv2.waitKey(0)\n",
    "cv2.destroyAllWindows()\n",
    "cv2.waitKey(1)"
   ],
   "id": "5644b0a845a02aac",
   "outputs": [],
   "execution_count": null
  },
  {
   "metadata": {},
   "cell_type": "code",
   "source": [
    "# Guardar imagen\n",
    "cv2.imwrite(\"casa_rural_gris.jpg\", img)"
   ],
   "id": "1e7fa45122607fb5",
   "outputs": [],
   "execution_count": null
  },
  {
   "metadata": {},
   "cell_type": "code",
   "source": [
    "# Separación por colores\n",
    "imagen_colores= cv2.imread(\"imagen_colores.jpg\")\n",
    "cv2.imshow(\"Imagen\", imagen_colores)\n",
    "cv2.waitKey(0)\n",
    "cv2.destroyAllWindows()\n",
    "cv2.waitKey(1)\n",
    "\n",
    "B, G, R = cv2.split(imagen_colores)\n",
    "cv2.imshow(\"Imagen\", B)\n",
    "cv2.waitKey(0)\n",
    "cv2.destroyAllWindows()\n",
    "cv2.waitKey(1)\n",
    "\n",
    "cv2.imshow(\"Imagen\", G)\n",
    "cv2.waitKey(0)\n",
    "cv2.destroyAllWindows()\n",
    "cv2.waitKey(1)\n",
    "\n",
    "cv2.imshow(\"Imagen\", R)\n",
    "cv2.waitKey(0)\n",
    "cv2.destroyAllWindows()\n",
    "cv2.waitKey(1)\n"
   ],
   "id": "fafddd15d20903ab",
   "outputs": [],
   "execution_count": null
  },
  {
   "metadata": {},
   "cell_type": "code",
   "source": [
    "# Operaciones Aritmeticas\n",
    "imagen_colores_dos = cv2.imread(\"imagen_colores_dos.jpg\")\n",
    "cv2.imshow(\"Imagen\", imagen_colores_dos)\n",
    "cv2.waitKey(0)\n",
    "cv2.destroyAllWindows()\n",
    "cv2.waitKey(1)\n",
    "\n",
    "sumar = cv2.add(imagen_colores, imagen_colores_dos)\n",
    "cv2.imshow(\"Imagen sumadas\", sumar)\n",
    "cv2.waitKey(0)\n",
    "cv2.destroyAllWindows()\n",
    "cv2.waitKey(1)\n",
    "\n",
    "sumar_con_pesos = cv2.addWeighted(imagen_colores, 0.25, imagen_colores_dos, 0.75, 0)\n",
    "cv2.imshow(\"Imagen Sumadas Con Pesos\", sumar_con_pesos)\n",
    "cv2.waitKey(0)\n",
    "cv2.destroyAllWindows()\n",
    "cv2.waitKey(1)\n"
   ],
   "id": "5f207a1de0c5f384",
   "outputs": [],
   "execution_count": null
  },
  {
   "metadata": {},
   "cell_type": "code",
   "source": [
    "imagen_b_n = cv2.imread(\"imagen_blanco_y_negro.jpg\")\n",
    "circu_b_n = cv2.imread(\"circunferencia_blanco_y_negro.jpg\")\n",
    "resta = cv2.subtract(imagen_b_n, circu_b_n)\n",
    "cv2.imshow(\"Imagen Restadas\", resta)\n",
    "cv2.waitKey(0)\n",
    "cv2.destroyAllWindows()\n",
    "cv2.waitKey(1)"
   ],
   "id": "4cc5cc6b1c2a8cb8",
   "outputs": [],
   "execution_count": null
  },
  {
   "metadata": {},
   "cell_type": "code",
   "source": [
    "# Operaciones Lógicas\n",
    "\n",
    "imagen_mitades = cv2.imread(\"imagen_mitades.jpg\")\n",
    "circulo_blanco = cv2.imread(\"imagencirculo_blanco.jpg\")\n",
    "dest_and = cv2.bitwise_and(imagen_mitades, circulo_blanco, mask=None) # Solo te deja en blanco, aquello en donde coincide\n",
    "cv2.imshow(\"Imagen Con And\", dest_and)\n",
    "cv2.waitKey(0)\n",
    "cv2.destroyAllWindows()\n",
    "cv2.waitKey(1)"
   ],
   "id": "59ef9011a52df7ff",
   "outputs": [],
   "execution_count": null
  },
  {
   "metadata": {},
   "cell_type": "code",
   "source": [
    "dest_or = cv2.bitwise_or(imagen_mitades, circulo_blanco, mask=None) # Solo te deja en blanco, cuando alguno sea blanca\n",
    "cv2.imshow(\"Imagen Con Or\", dest_or)\n",
    "cv2.waitKey(0)\n",
    "cv2.destroyAllWindows()\n",
    "cv2.waitKey(1)"
   ],
   "id": "6c1ec47abb59d1f2",
   "outputs": [],
   "execution_count": null
  },
  {
   "metadata": {},
   "cell_type": "code",
   "source": [
    "dest_xor = cv2.bitwise_xor(imagen_mitades, circulo_blanco, mask=None) # Uno u Otro, Te hace la operacion Or Exclusivo\n",
    "cv2.imshow(\"Imagen Con Xor\", dest_xor)\n",
    "cv2.waitKey(0)\n",
    "cv2.destroyAllWindows()\n",
    "cv2.waitKey(1)"
   ],
   "id": "19ad0d62ae571ae7",
   "outputs": [],
   "execution_count": null
  },
  {
   "metadata": {},
   "cell_type": "code",
   "source": [
    "dest_not = cv2.bitwise_not(circulo_blanco, mask=None) # Solo te deja en blanco, aquello en donde coincide\n",
    "cv2.imshow(\"Imagen Con Not\", dest_not)\n",
    "cv2.waitKey(0)\n",
    "cv2.destroyAllWindows()\n",
    "cv2.waitKey(1)"
   ],
   "id": "eb0471ff0613f763",
   "outputs": [],
   "execution_count": null
  },
  {
   "metadata": {},
   "cell_type": "code",
   "source": [
    "# Erosión\n",
    "import numpy as np\n",
    "\n",
    "imagen_zara = cv2.imread(\"ZARA-logotipo.jpg\")\n",
    "# Va colocando la matriz en cada pixel y evalua si es blanco o negro, y dependiendo del resultado te los \"erosioma\"\n",
    "# Si son negros, erosiona los de alrededor, si no, no\n",
    "\n",
    "kernel = np.ones((7,7), np.uint8)\n",
    "imagen_eroded = cv2.erode(imagen_zara, kernel)\n",
    "cv2.imshow(\"Imagen Erosionada\", imagen_eroded)\n",
    "cv2.waitKey(0)\n",
    "cv2.destroyAllWindows()\n",
    "cv2.waitKey(1)"
   ],
   "id": "ef9ac526c2389072",
   "outputs": [],
   "execution_count": null
  },
  {
   "metadata": {},
   "cell_type": "code",
   "source": [
    "# Gaussiano Blur\n",
    "gauss_blur = cv2.GaussianBlur(circu_b_n, (7,7), 0)\n",
    "cv2.imshow(\"Imagen Con Gauss\", gauss_blur)\n",
    "cv2.waitKey(0)\n",
    "cv2.destroyAllWindows()\n",
    "cv2.waitKey(1)"
   ],
   "id": "d4adb83c4e3b6cc2",
   "outputs": [],
   "execution_count": null
  },
  {
   "metadata": {},
   "cell_type": "code",
   "source": [
    "median_blur = cv2.medianBlur(circu_b_n, 5)\n",
    "cv2.imshow(\"Imagen Con Median\", median_blur)\n",
    "cv2.waitKey(0)\n",
    "cv2.destroyAllWindows()\n",
    "cv2.waitKey(1)"
   ],
   "id": "2c671865bc01299b",
   "outputs": [],
   "execution_count": null
  },
  {
   "metadata": {},
   "cell_type": "code",
   "source": [
    "bilateral_blur = cv2.bilateralFilter(circu_b_n, 9, 75,75)\n",
    "cv2.imshow(\"Imagen Con Bilateral\", bilateral_blur)\n",
    "cv2.waitKey(0)\n",
    "cv2.destroyAllWindows()\n",
    "cv2.waitKey(1)"
   ],
   "id": "a21b57ebfaf9fe34",
   "outputs": [],
   "execution_count": null
  },
  {
   "metadata": {},
   "cell_type": "code",
   "source": [
    "# Bordes\n",
    "imagen_casa_rural = cv2.imread(\"casa_rural.jpg\")\n",
    "borde_negro = cv2.copyMakeBorder(imagen_casa_rural, 10,10,10,10, cv2.BORDER_CONSTANT, None, value=0)\n",
    "cv2.imshow(\"Imagen Con Borde Negro\", borde_negro)\n",
    "cv2.waitKey(0)\n",
    "cv2.destroyAllWindows()\n",
    "cv2.waitKey(1)"
   ],
   "id": "100ae61a21c7db7d",
   "outputs": [],
   "execution_count": null
  },
  {
   "metadata": {},
   "cell_type": "code",
   "source": [
    "borde_reflect = cv2.copyMakeBorder(imagen_casa_rural, 100,100,50,50, cv2.BORDER_REFLECT)\n",
    "cv2.imshow(\"Imagen Con Borde Reflect\", borde_reflect)\n",
    "cv2.waitKey(0)\n",
    "cv2.destroyAllWindows()\n",
    "cv2.waitKey(1)"
   ],
   "id": "36aa04ae269b04a4",
   "outputs": [],
   "execution_count": null
  },
  {
   "metadata": {},
   "cell_type": "code",
   "source": [
    "# imread con escala de grises incluidos\n",
    "img = cv2.imread(\"casa_rural.jpg\", 0)\n",
    "cv2.imshow(\"Imagen en Grises\", img)\n",
    "cv2.waitKey(0)\n",
    "cv2.destroyAllWindows()\n",
    "cv2.waitKey(1)"
   ],
   "id": "bbdd550c0d62cfe6",
   "outputs": [],
   "execution_count": null
  },
  {
   "metadata": {},
   "cell_type": "code",
   "source": [
    "casa_HSV = cv2.cvtColor(imagen_casa_rural, cv2.COLOR_BGR2HSV)\n",
    "cv2.imshow(\"Imagen en HSV\", casa_HSV)\n",
    "cv2.waitKey(0)\n",
    "cv2.destroyAllWindows()\n",
    "cv2.waitKey(1)\n"
   ],
   "id": "802eff0062b3ce21",
   "outputs": [],
   "execution_count": null
  },
  {
   "metadata": {},
   "cell_type": "code",
   "source": [
    "casa_HSV = cv2.cvtColor(imagen_casa_rural, cv2.COLOR_BGR2YCrCb)\n",
    "cv2.imshow(\"Imagen en HSV\", casa_HSV)\n",
    "cv2.waitKey(0)\n",
    "cv2.destroyAllWindows()\n",
    "cv2.waitKey(1)"
   ],
   "id": "f9ec5c02e8e8a180",
   "outputs": [],
   "execution_count": null
  },
  {
   "metadata": {},
   "cell_type": "code",
   "source": [
    "casa_HSV = cv2.cvtColor(imagen_casa_rural, cv2.COLOR_BGR2Lab)\n",
    "cv2.imshow(\"Imagen en HSV\", casa_HSV)\n",
    "cv2.waitKey(0)\n",
    "cv2.destroyAllWindows()\n",
    "cv2.waitKey(1)"
   ],
   "id": "ac0f960051cd94d5",
   "outputs": [],
   "execution_count": null
  },
  {
   "metadata": {},
   "cell_type": "code",
   "source": [
    "# Convertirla a grises en manual\n",
    "(row, col) = imagen_casa_rural.shape[0:2]\n",
    "for i in range(row):\n",
    "    for j in range(col):\n",
    "        imagen_casa_rural[i,j] = sum(imagen_casa_rural[i,j]) * 0.33\n",
    "cv2.imshow(\"Imagen en Blanco_Negro Por Pixel\", imagen_casa_rural)\n",
    "cv2.waitKey(0)\n",
    "cv2.destroyAllWindows()\n",
    "cv2.waitKey(1)"
   ],
   "id": "23277b455aa19f22",
   "outputs": [],
   "execution_count": null
  },
  {
   "metadata": {},
   "cell_type": "code",
   "source": [
    "# Rotación de Imágenes\n",
    "centro = (imagen_colores.shape[1], imagen_colores.shape[0])\n",
    "angulo = -30\n",
    "escala = 1\n",
    "matriz_rotate = cv2.getRotationMatrix2D(centro, angulo, escala)\n",
    "imagen_girada = cv2.warpAffine(imagen_colores, matriz_rotate, (imagen_colores.shape[1], imagen_colores.shape[0]))\n",
    "cv2.imshow(\"Imagen Rotada\", imagen_girada)\n",
    "cv2.waitKey(0)\n",
    "cv2.destroyAllWindows()\n",
    "cv2.waitKey(1)"
   ],
   "id": "a166f40206fa240d",
   "outputs": [],
   "execution_count": null
  },
  {
   "metadata": {},
   "cell_type": "code",
   "source": [
    "# Traslación: matriz de 2*3\n",
    "wide = imagen_colores.shape[1]\n",
    "height = imagen_colores.shape[0]\n",
    "tx = 100\n",
    "ty = 70\n",
    "matriz_translacion = np.array([[1,0,tx],[0,1,ty]], dtype=np.float32)\n",
    "imagen_trasladada = cv2.warpAffine(imagen_colores, matriz_translacion, (wide, height))\n",
    "cv2.imshow(\"Imagen Trasladada\", imagen_trasladada)\n",
    "cv2.waitKey(0)\n",
    "cv2.destroyAllWindows()\n",
    "cv2.waitKey(1)"
   ],
   "id": "2bd8e0e2e07951b5",
   "outputs": [],
   "execution_count": null
  },
  {
   "metadata": {},
   "cell_type": "code",
   "source": [
    "# Shear Image: Cizalla como si la recortases\n",
    "wide = imagen_casa_rural.shape[1]\n",
    "height = imagen_casa_rural.shape[0]\n",
    "shearx = -0.15\n",
    "sheary = 0\n",
    "matriz_shear = np.array([[1, shearx, 0],[0,1,sheary]], dtype=np.float32)\n",
    "imagen_sheared= cv2.warpAffine(imagen_casa_rural, matriz_shear, (wide, height))\n",
    "cv2.imshow(\"Imagen Sheared\", imagen_sheared)\n",
    "cv2.waitKey(0)\n",
    "cv2.destroyAllWindows()\n",
    "cv2.waitKey(1)"
   ],
   "id": "d82f211b3f474fcb",
   "outputs": [],
   "execution_count": null
  },
  {
   "metadata": {},
   "cell_type": "code",
   "source": [
    "# Normalizar la imagen dentro de un rango de valores\n",
    "b, g, r = cv2.split(imagen_colores)\n",
    "minimo = 0\n",
    "maximo = 1\n",
    "norm_type = cv2.NORM_MINMAX\n",
    "b_norm = cv2.normalize(b.astype(\"float\"), None, minimo, maximo, norm_type)\n",
    "g_norm = cv2.normalize(g.astype(\"float\"), None, minimo, maximo, norm_type)\n",
    "r_norm = cv2.normalize(r.astype(\"float\"), None, minimo, maximo, norm_type)\n",
    "norm_image = cv2.merge((b_norm, g_norm, r_norm))\n",
    "cv2.imshow(\"Imagen Normalizada\", norm_image)\n",
    "cv2.waitKey(0)\n",
    "cv2.destroyAllWindows()\n",
    "cv2.waitKey(1)\n",
    "print(imagen_colores[:,:,0])\n",
    "print(norm_image[:,:,0])"
   ],
   "id": "414710adf44e99b5",
   "outputs": [],
   "execution_count": null
  },
  {
   "metadata": {},
   "cell_type": "code",
   "source": "",
   "id": "7d8f36126fa3b3da",
   "outputs": [],
   "execution_count": null
  },
  {
   "metadata": {},
   "cell_type": "code",
   "source": "",
   "id": "7c693ccced4ff6b5",
   "outputs": [],
   "execution_count": null
  },
  {
   "metadata": {},
   "cell_type": "code",
   "source": "",
   "id": "895ecf46e7210eb5",
   "outputs": [],
   "execution_count": null
  },
  {
   "metadata": {},
   "cell_type": "code",
   "source": "",
   "id": "a2c45f82a0ab0ec0",
   "outputs": [],
   "execution_count": null
  },
  {
   "metadata": {},
   "cell_type": "code",
   "source": "",
   "id": "5373652ef1878e70",
   "outputs": [],
   "execution_count": null
  },
  {
   "metadata": {},
   "cell_type": "code",
   "source": "",
   "id": "db3d65988c4f6f4d",
   "outputs": [],
   "execution_count": null
  },
  {
   "metadata": {},
   "cell_type": "code",
   "source": "",
   "id": "b1f1c7bd0bc11945",
   "outputs": [],
   "execution_count": null
  },
  {
   "metadata": {},
   "cell_type": "code",
   "source": "",
   "id": "c22b4fa1710c93e5",
   "outputs": [],
   "execution_count": null
  },
  {
   "metadata": {},
   "cell_type": "code",
   "source": "",
   "id": "94b33694fc1c4fc5",
   "outputs": [],
   "execution_count": null
  },
  {
   "metadata": {},
   "cell_type": "code",
   "source": "",
   "id": "a271decfaf0d038a",
   "outputs": [],
   "execution_count": null
  }
 ],
 "metadata": {
  "kernelspec": {
   "display_name": "Python 3",
   "language": "python",
   "name": "python3"
  },
  "language_info": {
   "codemirror_mode": {
    "name": "ipython",
    "version": 2
   },
   "file_extension": ".py",
   "mimetype": "text/x-python",
   "name": "python",
   "nbconvert_exporter": "python",
   "pygments_lexer": "ipython2",
   "version": "2.7.6"
  }
 },
 "nbformat": 4,
 "nbformat_minor": 5
}
