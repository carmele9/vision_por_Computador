{
 "cells": [
  {
   "cell_type": "code",
   "id": "initial_id",
   "metadata": {
    "collapsed": true,
    "ExecuteTime": {
     "end_time": "2025-05-28T18:31:18.009362Z",
     "start_time": "2025-05-28T18:31:17.104791Z"
    }
   },
   "source": [
    "# Como fourier, pero en un tiempo corto o especifico,\n",
    "# Toma la distribución de Gauss\n",
    "# Se parece a lo que realiza nuestro ojo\n",
    "# Función seno + Gauss, puedes ponerlo en diferentes direcciones\n",
    "\n",
    "# Si hay direction, el filtro cuando coincide sirve\n",
    "# Si no hay direction, el filtro se confunde.\n",
    "# Si mezclas varias cosas sin direccionalidad fija, se confunde\n",
    "# Floor-Curtain, lamp-Curtain -> No se confunde\n",
    "# Curtain -Rope -> Se confunde\n",
    "\n",
    "import cv2\n",
    "import numpy as np"
   ],
   "outputs": [],
   "execution_count": 1
  },
  {
   "metadata": {
    "ExecuteTime": {
     "end_time": "2025-05-28T18:31:31.905001Z",
     "start_time": "2025-05-28T18:31:31.862590Z"
    }
   },
   "cell_type": "code",
   "source": [
    "retval = cv2.getGaborKernel(ksize=(111,111), sigma=10, theta=60, lambd=10, gamma=1.2)\n",
    "girl_anime = cv2.imread(\"unnamed.png\")\n",
    "result = cv2.filter2D(girl_anime, -1, retval)"
   ],
   "id": "a7d47a07d51df61a",
   "outputs": [],
   "execution_count": 3
  },
  {
   "metadata": {
    "ExecuteTime": {
     "end_time": "2025-05-28T17:39:56.670383Z",
     "start_time": "2025-05-28T17:39:55.045881Z"
    }
   },
   "cell_type": "code",
   "source": [
    "cv2.imshow(\"Girl Anime Original\", girl_anime)\n",
    "cv2.waitKey(0)\n",
    "cv2.destroyAllWindows()\n",
    "cv2.waitKey(1)"
   ],
   "id": "58f89680fb621905",
   "outputs": [
    {
     "data": {
      "text/plain": [
       "-1"
      ]
     },
     "execution_count": 3,
     "metadata": {},
     "output_type": "execute_result"
    }
   ],
   "execution_count": 3
  },
  {
   "metadata": {
    "ExecuteTime": {
     "end_time": "2025-05-28T17:39:57.700092Z",
     "start_time": "2025-05-28T17:39:56.827821Z"
    }
   },
   "cell_type": "code",
   "source": [
    "cv2.imshow(\"Result\", result)\n",
    "cv2.waitKey(0)\n",
    "cv2.destroyAllWindows()\n",
    "cv2.waitKey(1)"
   ],
   "id": "d6a3ff03927927cf",
   "outputs": [
    {
     "data": {
      "text/plain": [
       "-1"
      ]
     },
     "execution_count": 4,
     "metadata": {},
     "output_type": "execute_result"
    }
   ],
   "execution_count": 4
  },
  {
   "metadata": {
    "ExecuteTime": {
     "end_time": "2025-05-28T18:31:36.239784Z",
     "start_time": "2025-05-28T18:31:36.221962Z"
    }
   },
   "cell_type": "code",
   "source": [
    "# AHORA LO IMPLEMENTAMOS NOSOTROS\n",
    "import matplotlib.pyplot as plt\n",
    "\n",
    "girl_anime_gray = cv2.cvtColor(girl_anime, cv2.COLOR_BGR2GRAY)\n",
    "\n",
    "def gabor_filter(ksize = 111, sigma=10, gamma=1.2, Lambda=10, psi=0, angle=0):\n",
    "    d = ksize//2\n",
    "    gabor = np.zeros((ksize, ksize), dtype=np.float32)\n",
    "    for y in range(ksize):\n",
    "        for x in range(ksize):\n",
    "            px = x-d  # Distancia al centro\n",
    "            py = y-d\n",
    "            theta = angle / 180. * np.pi\n",
    "            _x = np.cos(theta) * px + np.sin(theta) * py\n",
    "            _y = -np.sin(theta) * px + np.cos(theta) * py\n",
    "            gabor[y,x] = np.exp(-(_x**2 + gamma**2 * _y**2)/(2*sigma**2)) * np.cos(2*np.pi * _x / Lambda + psi)\n",
    "    gabor/= np.sum(np.abs(gabor)) # Se normaliza\n",
    "    return gabor"
   ],
   "id": "128445ed8eff36e8",
   "outputs": [],
   "execution_count": 4
  },
  {
   "metadata": {
    "ExecuteTime": {
     "end_time": "2025-05-28T17:39:59.540243Z",
     "start_time": "2025-05-28T17:39:59.008067Z"
    }
   },
   "cell_type": "code",
   "source": [
    " As = [0, 45, 90, 135] # Angulos\n",
    "plt.subplots_adjust(left=0, right=1, top=1, bottom=0, hspace=0, wspace=0.2)\n",
    "for i, A in enumerate(As):\n",
    "    gabor = gabor_filter(ksize=111, sigma=10, gamma=1.2, Lambda=10, psi=0, angle=A)\n",
    "    # Normalizando en estas tres líneas para que los valores estén 0, 255\n",
    "    out = gabor - np.min(gabor)\n",
    "    out /= np.max(out)\n",
    "    out *= 255\n",
    "    out = out.astype(np.uint8)\n",
    "    plt.subplot(1,4,i + 1)\n",
    "    plt.imshow(out, cmap=\"gray\")\n",
    "    plt.axis(\"off\")\n",
    "    plt.title(\"Angle\" + str(A))\n",
    "plt.show()"
   ],
   "id": "b01b42c3cd570cfc",
   "outputs": [
    {
     "data": {
      "text/plain": [
       "<Figure size 640x480 with 4 Axes>"
      ],
      "image/png": "[encoded data removed]"
     },
     "metadata": {},
     "output_type": "display_data"
    }
   ],
   "execution_count": 6
  },
  {
   "metadata": {
    "ExecuteTime": {
     "end_time": "2025-05-28T18:31:44.588228Z",
     "start_time": "2025-05-28T18:31:44.583898Z"
    }
   },
   "cell_type": "code",
   "source": [
    "def gabor_filtering(gray, ksize=111, sigma=10, gamma=1.2, Lambda=10, psi=0, angle=0):\n",
    "    H, W = gray.shape\n",
    "    gray = np.pad(gray, (ksize//2, ksize//2), \"edge\")\n",
    "    out = np.zeros((H,W), dtype=np.float32)\n",
    "    gabor = gabor_filter(ksize=ksize, sigma=sigma, gamma=gamma, Lambda=Lambda, psi=psi, angle=angle)\n",
    "    for y in range(H):\n",
    "        for x in range(W):\n",
    "            out[y,x] = np.sum(gray[y:y+ksize, x:x+ksize] * gabor)\n",
    "    out = np.clip(out, 0, 255)\n",
    "    out = out.astype(np.uint8)\n",
    "    return out\n"
   ],
   "id": "6e0e55998aba6460",
   "outputs": [],
   "execution_count": 5
  },
  {
   "metadata": {
    "ExecuteTime": {
     "end_time": "2025-05-28T18:31:47.202723Z",
     "start_time": "2025-05-28T18:31:47.197276Z"
    }
   },
   "cell_type": "code",
   "source": [
    "def gabor_process(image):\n",
    "    image_gray = cv2.cvtColor(image, cv2.COLOR_BGR2GRAY).astype(np.float32)\n",
    "    H, W, _ = image.shape\n",
    "    As = [0,30,60,90,120,150]\n",
    "    plt.subplots_adjust(left=0,right=1, top=1, bottom=0, hspace=0, wspace=0.2)\n",
    "    out = np.zeros((H,W), dtype=np.float32)\n",
    "    for i, A in enumerate(As):\n",
    "        _out = gabor_filtering(image_gray, ksize=11, sigma=1.5, gamma=1.2, Lambda=3, angle=A)\n",
    "        out += _out\n",
    "    out = out / out.max()*255 # Normalizar\n",
    "    out = out.astype(np.uint8)\n",
    "    return out\n"
   ],
   "id": "a0b8550de1bb2760",
   "outputs": [],
   "execution_count": 6
  },
  {
   "metadata": {
    "ExecuteTime": {
     "end_time": "2025-05-28T17:40:07.137969Z",
     "start_time": "2025-05-28T17:39:59.634994Z"
    }
   },
   "cell_type": "code",
   "source": [
    "anime = cv2.imread(\"unnamed.png\").astype(np.float32)\n",
    "out = gabor_process(anime)\n",
    "cv2.imshow(\"Girl Gabor\", out)\n",
    "cv2.waitKey(0)\n",
    "cv2.destroyAllWindows()\n",
    "cv2.waitKey(1)"
   ],
   "id": "69d94e77a93ea64f",
   "outputs": [
    {
     "data": {
      "text/plain": [
       "-1"
      ]
     },
     "execution_count": 9,
     "metadata": {},
     "output_type": "execute_result"
    },
    {
     "data": {
      "text/plain": [
       "<Figure size 640x480 with 0 Axes>"
      ]
     },
     "metadata": {},
     "output_type": "display_data"
    }
   ],
   "execution_count": 9
  },
  {
   "metadata": {
    "ExecuteTime": {
     "end_time": "2025-05-28T18:34:33.191850Z",
     "start_time": "2025-05-28T18:33:23.288799Z"
    }
   },
   "cell_type": "code",
   "source": [
    "rope = cv2.imread(\"test/Imagen de WhatsApp 2025-04-23 a las 20.33.48_aa6aa5bb.jpg\").astype(np.float32)\n",
    "out = gabor_process(rope)\n",
    "cv2.imshow(\"Rope Gabor\", out)\n",
    "cv2.waitKey(0)\n",
    "cv2.destroyAllWindows()\n",
    "cv2.waitKey(1)"
   ],
   "id": "9c873cfd1f644485",
   "outputs": [
    {
     "data": {
      "text/plain": [
       "-1"
      ]
     },
     "execution_count": 9,
     "metadata": {},
     "output_type": "execute_result"
    },
    {
     "data": {
      "text/plain": [
       "<Figure size 640x480 with 0 Axes>"
      ]
     },
     "metadata": {},
     "output_type": "display_data"
    }
   ],
   "execution_count": 9
  },
  {
   "metadata": {
    "ExecuteTime": {
     "end_time": "2025-05-28T18:35:45.608713Z",
     "start_time": "2025-05-28T18:34:33.333430Z"
    }
   },
   "cell_type": "code",
   "source": [
    "lamp = cv2.imread(\"test/Imagen de WhatsApp 2025-04-23 a las 20.33.50_8624a043.jpg\").astype(np.float32)\n",
    "out = gabor_process(lamp)\n",
    "cv2.imshow(\"Lamp Gabor\", out)\n",
    "cv2.waitKey(0)\n",
    "cv2.destroyAllWindows()\n",
    "cv2.waitKey(1)"
   ],
   "id": "b6a277d131928ca",
   "outputs": [
    {
     "data": {
      "text/plain": [
       "-1"
      ]
     },
     "execution_count": 10,
     "metadata": {},
     "output_type": "execute_result"
    },
    {
     "data": {
      "text/plain": [
       "<Figure size 640x480 with 0 Axes>"
      ]
     },
     "metadata": {},
     "output_type": "display_data"
    }
   ],
   "execution_count": 10
  },
  {
   "metadata": {
    "ExecuteTime": {
     "end_time": "2025-05-28T18:36:48.373893Z",
     "start_time": "2025-05-28T18:35:45.725811Z"
    }
   },
   "cell_type": "code",
   "source": [
    "curtain = cv2.imread(\"test/Imagen de WhatsApp 2025-04-23 a las 19.50.50_7c3e1c6f.jpg\").astype(np.float32)\n",
    "out = gabor_process(curtain)\n",
    "cv2.imshow(\"Rope Gabor\", out)\n",
    "cv2.waitKey(0)\n",
    "cv2.destroyAllWindows()\n",
    "cv2.waitKey(1)"
   ],
   "id": "ed19172e4ac1c51f",
   "outputs": [
    {
     "data": {
      "text/plain": [
       "-1"
      ]
     },
     "execution_count": 11,
     "metadata": {},
     "output_type": "execute_result"
    },
    {
     "data": {
      "text/plain": [
       "<Figure size 640x480 with 0 Axes>"
      ]
     },
     "metadata": {},
     "output_type": "display_data"
    }
   ],
   "execution_count": 11
  },
  {
   "metadata": {
    "ExecuteTime": {
     "end_time": "2025-05-28T18:37:50.466051Z",
     "start_time": "2025-05-28T18:36:48.487837Z"
    }
   },
   "cell_type": "code",
   "source": [
    "floor = cv2.imread(\"test/Imagen de WhatsApp 2025-04-23 a las 19.50.55_5923eeab.jpg\").astype(np.float32)\n",
    "out = gabor_process(floor)\n",
    "cv2.imshow(\"Rope Gabor\", out)\n",
    "cv2.waitKey(0)\n",
    "cv2.destroyAllWindows()\n",
    "cv2.waitKey(1)"
   ],
   "id": "9e578d6097299ec8",
   "outputs": [
    {
     "data": {
      "text/plain": [
       "-1"
      ]
     },
     "execution_count": 12,
     "metadata": {},
     "output_type": "execute_result"
    },
    {
     "data": {
      "text/plain": [
       "<Figure size 640x480 with 0 Axes>"
      ]
     },
     "metadata": {},
     "output_type": "display_data"
    }
   ],
   "execution_count": 12
  },
  {
   "metadata": {
    "ExecuteTime": {
     "end_time": "2025-05-28T18:31:54.597923Z",
     "start_time": "2025-05-28T18:31:53.665255Z"
    }
   },
   "cell_type": "code",
   "source": [
    "# Comparar texturas mediante varianza y media\n",
    "from scipy import ndimage as ndi\n",
    "\n",
    "def compute_feats(image, kernels):\n",
    "    feats = np.zeros((len(kernels),2), dtype=np.double)\n",
    "    for k, kernel in enumerate(kernels):\n",
    "        #filtered = image[:,:, None]\n",
    "        filtered = ndi.convolve(image, kernel, mode=\"wrap\") # Convolution Multidimensional\n",
    "        #filtered = filtered.squeeze()\n",
    "        feats[k,0] = filtered.mean()\n",
    "        feats[k,1] = filtered.var()\n",
    "    return feats"
   ],
   "id": "138c5c856106eaa9",
   "outputs": [],
   "execution_count": 7
  },
  {
   "metadata": {
    "ExecuteTime": {
     "end_time": "2025-05-28T18:31:56.778343Z",
     "start_time": "2025-05-28T18:31:56.774485Z"
    }
   },
   "cell_type": "code",
   "source": [
    "def match(feats, ref_feats):\n",
    "    min_error = np.inf\n",
    "    min_i = None\n",
    "    for i in range(ref_feats.shape[0]):\n",
    "        error = np.sum((feats-ref_feats[i,:])**2)\n",
    "        if error < min_error:\n",
    "            min_error = error\n",
    "            min_i = i\n",
    "    return min_i"
   ],
   "id": "47556ea9dc2a569e",
   "outputs": [],
   "execution_count": 8
  },
  {
   "metadata": {
    "ExecuteTime": {
     "start_time": "2025-05-28T18:27:59.836097Z"
    }
   },
   "cell_type": "code",
   "source": [
    "from skimage.filters import gabor_kernel\n",
    "import glob\n",
    "\n",
    "kernels = []\n",
    "# Simular los rangos de la vision humana (4)\n",
    "for theta in range(4):\n",
    "    theta = theta/4.0 * np.pi\n",
    "    for sigma in (1,3):\n",
    "        for frequency in (0.05, 0.25):\n",
    "            kernel = np.real(gabor_kernel(frequency, theta=theta, sigma_x=sigma, sigma_y=sigma))\n",
    "            kernels.append(kernel)\n",
    "            print(len(kernel))\n",
    "            print(\"Shape\", kernel.shape)\n",
    "\n",
    "floor = cv2.imread(\"test/Imagen de WhatsApp 2025-04-23 a las 19.50.55_5923eeab.jpg\")\n",
    "curtain = cv2.imread(\"test/Imagen de WhatsApp 2025-04-23 a las 19.50.50_7c3e1c6f.jpg\")\n",
    "lamp = cv2.imread(\"test/Imagen de WhatsApp 2025-04-23 a las 20.33.50_8624a043.jpg\")\n",
    "rope = cv2.imread(\"test/Imagen de WhatsApp 2025-04-23 a las 20.33.48_aa6aa5bb.jpg\")\n",
    "\n",
    "print(\"Shape: \", floor.shape)\n",
    "floor = cv2.cvtColor(floor, cv2.COLOR_BGR2GRAY)\n",
    "rope = cv2.cvtColor(rope, cv2.COLOR_BGR2GRAY)\n",
    "curtain = cv2.cvtColor(curtain, cv2.COLOR_BGR2GRAY)\n",
    "lamp = cv2.cvtColor(lamp, cv2.COLOR_BGR2GRAY)\n",
    "print(\"Shape: \", floor.shape)\n",
    "ref_feats = np.zeros((4,len(kernels), 2), dtype=np.double)\n",
    "ref_feats[0,:, :] = compute_feats(floor, kernels)\n",
    "ref_feats[1,:, :] = compute_feats(rope, kernels)\n",
    "ref_feats[2,:, :] = compute_feats(curtain, kernels)\n",
    "ref_feats[3,:, :] = compute_feats(lamp, kernels)\n",
    "\n",
    "\n",
    "image_names= (\"floor\", \"rope\", \"curtain\", \"lamp\")\n",
    "for imagePath in glob.glob(\"training/*.jpg\"):\n",
    "    image = cv2.imread(imagePath)\n",
    "    image = cv2.cvtColor(image, cv2.COLOR_BGR2GRAY)\n",
    "    feats = compute_feats(image, kernels)\n",
    "    pred = image_names[match(feats, ref_feats)]\n",
    "    print(type(pred))\n",
    "    cv2.putText(image, pred, (20,30), cv2.FONT_HERSHEY_SIMPLEX, 1.0, (0,255,0), 3)\n",
    "    cv2.imshow(\"Prediccion\", image)\n",
    "    cv2.waitKey(0)\n",
    "    cv2.destroyAllWindows()\n"
   ],
   "id": "71575427919254d7",
   "outputs": [
    {
     "name": "stdout",
     "output_type": "stream",
     "text": [
      "7\n",
      "Shape (7, 7)\n",
      "7\n",
      "Shape (7, 7)\n",
      "19\n",
      "Shape (19, 19)\n",
      "19\n",
      "Shape (19, 19)\n",
      "7\n",
      "Shape (7, 7)\n",
      "7\n",
      "Shape (7, 7)\n",
      "15\n",
      "Shape (15, 15)\n",
      "15\n",
      "Shape (15, 15)\n",
      "7\n",
      "Shape (7, 7)\n",
      "7\n",
      "Shape (7, 7)\n",
      "19\n",
      "Shape (19, 19)\n",
      "19\n",
      "Shape (19, 19)\n",
      "7\n",
      "Shape (7, 7)\n",
      "7\n",
      "Shape (7, 7)\n",
      "15\n",
      "Shape (15, 15)\n",
      "15\n",
      "Shape (15, 15)\n",
      "Shape:  (1600, 1200, 3)\n",
      "Shape:  (1600, 1200)\n",
      "<class 'str'>\n",
      "<class 'str'>\n",
      "<class 'str'>\n",
      "<class 'str'>\n",
      "<class 'str'>\n",
      "<class 'str'>\n",
      "<class 'str'>\n",
      "<class 'str'>\n",
      "<class 'str'>\n",
      "<class 'str'>\n",
      "<class 'str'>\n",
      "<class 'str'>\n",
      "<class 'str'>\n",
      "<class 'str'>\n",
      "<class 'str'>\n"
     ]
    }
   ],
   "execution_count": null
  },
  {
   "metadata": {},
   "cell_type": "code",
   "outputs": [],
   "execution_count": null,
   "source": "",
   "id": "e8f91b2e0d0ae7da"
  },
  {
   "metadata": {},
   "cell_type": "code",
   "outputs": [],
   "execution_count": null,
   "source": "",
   "id": "13e9a8a1d46e1802"
  },
  {
   "metadata": {},
   "cell_type": "code",
   "outputs": [],
   "execution_count": null,
   "source": "",
   "id": "610e6ac927599176"
  },
  {
   "metadata": {},
   "cell_type": "code",
   "outputs": [],
   "execution_count": null,
   "source": "",
   "id": "2b70a6b68f000c8e"
  }
 ],
 "metadata": {
  "kernelspec": {
   "display_name": "Python 3",
   "language": "python",
   "name": "python3"
  },
  "language_info": {
   "codemirror_mode": {
    "name": "ipython",
    "version": 2
   },
   "file_extension": ".py",
   "mimetype": "text/x-python",
   "name": "python",
   "nbconvert_exporter": "python",
   "pygments_lexer": "ipython2",
   "version": "2.7.6"
  }
 },
 "nbformat": 4,
 "nbformat_minor": 5
}
