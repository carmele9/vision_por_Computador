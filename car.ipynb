{
 "cells": [
  {
   "metadata": {
    "collapsed": true,
    "ExecuteTime": {
     "end_time": "2025-06-25T19:27:45.462658Z",
     "start_time": "2025-06-25T19:27:44.583409Z"
    }
   },
   "cell_type": "code",
   "source": [
    "import numpy as np\n",
    "import pandas as pd\n",
    "import cv2\n",
    "import moviepy\n"
   ],
   "id": "initial_id",
   "outputs": [],
   "execution_count": 2
  },
  {
   "metadata": {
    "ExecuteTime": {
     "end_time": "2025-06-25T19:27:45.476807Z",
     "start_time": "2025-06-25T19:27:45.473274Z"
    }
   },
   "cell_type": "code",
   "source": [
    "def region_selection(image):\n",
    "    mask = np.zeros_like(image)\n",
    "    if len(image.shape)>2:\n",
    "        channel_count = image.shape[2]\n",
    "        ignore_mask_color = (255,) * channel_count\n",
    "    else:\n",
    "        ignore_mask_color = 255\n",
    "    rows, cols = image.shape[:2]\n",
    "    bottom_left = [cols*0.1, rows*0.95]\n",
    "    top_left = [cols*0.4, rows*0.6]\n",
    "    bottom_right = [cols*0.9, rows*0.95]\n",
    "    top_right = [cols*0.6, rows*0.6]\n",
    "    vertices = np.array([[bottom_left, top_left, top_right, bottom_right]], dtype=np.int32)\n",
    "    cv2.fillPoly(mask, vertices, ignore_mask_color)\n",
    "    masked_image = cv2.bitwise_and(image, mask)\n",
    "    return masked_image\n"
   ],
   "id": "70ee88cae3657406",
   "outputs": [],
   "execution_count": 3
  },
  {
   "metadata": {
    "ExecuteTime": {
     "end_time": "2025-06-25T19:27:45.487199Z",
     "start_time": "2025-06-25T19:27:45.483823Z"
    }
   },
   "cell_type": "code",
   "source": [
    "def hough_transform(image):\n",
    "    rho = 1\n",
    "    theta = np.pi/180\n",
    "    threshold = 20\n",
    "    min_line_len = 20\n",
    "    max_line_gap = 500\n",
    "    return cv2.HoughLinesP(image, rho, theta, threshold, minLineLength=min_line_len, maxLineGap= max_line_gap)"
   ],
   "id": "498c681524108b6d",
   "outputs": [],
   "execution_count": 4
  },
  {
   "metadata": {
    "ExecuteTime": {
     "end_time": "2025-06-25T19:27:45.501725Z",
     "start_time": "2025-06-25T19:27:45.498561Z"
    }
   },
   "cell_type": "code",
   "source": [
    "def average_slope_intercept(lines):\n",
    "    left_lines = []\n",
    "    left_weights = []\n",
    "    right_lines = []\n",
    "    right_weights = []\n",
    "    for line in lines:\n",
    "        for x1, y1, x2, y2 in line:\n",
    "            if x1==x2:\n",
    "                continue\n",
    "            slope = (y2-y1) / (x2-x1)\n",
    "            intercept = y1-(slope*x1)\n",
    "            length = np.sqrt(((y2-y1)**2)+((x2-x1)**2))\n",
    "            if slope <0:\n",
    "                left_lines.append((slope,intercept))\n",
    "                left_weights.append((length))\n",
    "            else:\n",
    "                right_lines.append((slope, intercept))\n",
    "                right_weights.append((length))\n",
    "    left_lane= np.dot(left_weights, left_lines) / np.sum(left_weights) if len(left_weights) >0 else None\n",
    "    print(left_lane)\n",
    "    right_lane= np.dot(right_weights, right_lines) / np.sum(right_weights) if len(right_weights) >0 else None\n",
    "    print(right_lane)\n",
    "\n"
   ],
   "id": "1fcfb5d44a451c77",
   "outputs": [],
   "execution_count": 5
  },
  {
   "metadata": {
    "ExecuteTime": {
     "end_time": "2025-06-25T19:27:45.512234Z",
     "start_time": "2025-06-25T19:27:45.509825Z"
    }
   },
   "cell_type": "code",
   "source": [
    "def pixel_points(y1, y2, line):\n",
    "    if line is None:\n",
    "        return None\n",
    "    slope, intercept = line\n",
    "    x1 = int((y1-intercept)/slope)\n",
    "    x2 = int((y2-intercept)/slope)\n",
    "    y1 = int(y1)\n",
    "    y2 = int(y2)\n",
    "    return ((x1, y1), (x2, y2))\n"
   ],
   "id": "8f50f60624c91743",
   "outputs": [],
   "execution_count": 6
  },
  {
   "metadata": {
    "ExecuteTime": {
     "end_time": "2025-06-25T19:27:45.523919Z",
     "start_time": "2025-06-25T19:27:45.520405Z"
    }
   },
   "cell_type": "code",
   "source": [
    "def lane_lines(image, lines):\n",
    "    if lines is not None:\n",
    "        left_lane, right_lane = average_slope_intercept(lines)\n",
    "        y1 = image.shape[0]\n",
    "        y2 = y1*0.6\n",
    "        left_line=pixel_points(y1, y2, left_lane)\n",
    "        right_line =pixel_points(y1, y2, right_lane)\n",
    "    else:\n",
    "        left_line = ((0,0), (0,0))\n",
    "        right_line = ((0,0), (0,0))\n",
    "    return left_line, right_line"
   ],
   "id": "791a1cc87a3ad06a",
   "outputs": [],
   "execution_count": 7
  },
  {
   "metadata": {
    "ExecuteTime": {
     "end_time": "2025-06-25T19:27:45.534844Z",
     "start_time": "2025-06-25T19:27:45.530823Z"
    }
   },
   "cell_type": "code",
   "source": [
    "def draw_lane_lines(image, lines, color=[255,0,0], thickness=12):\n",
    "    line_image = np.zeros_like(image)\n",
    "    for line in lines:\n",
    "        if line is not None:\n",
    "            cv2.line(line_image, *line, color, thickness)\n",
    "    return cv2.addWeighted(image, 1.0, line_image, 1.0, 0.0)"
   ],
   "id": "538fee82b16b46c9",
   "outputs": [],
   "execution_count": 8
  },
  {
   "metadata": {
    "ExecuteTime": {
     "end_time": "2025-06-25T19:27:45.549501Z",
     "start_time": "2025-06-25T19:27:45.547009Z"
    }
   },
   "cell_type": "code",
   "source": [
    "def frame_processor(image):\n",
    "    grayscale = cv2.cvtColor(image, cv2.COLOR_BGR2GRAY)\n",
    "    kernel_size = 5\n",
    "    blurred= cv2.GaussianBlur(grayscale, (kernel_size, kernel_size), 0)\n",
    "    lowt = 50\n",
    "    hight = 150\n",
    "    edges = cv2.Canny(blurred, lowt, hight)\n",
    "    region = region_selection(edges)\n",
    "    hough = hough_transform(region)\n",
    "    result = draw_lane_lines(image, lane_lines(image, hough))\n",
    "    return result\n"
   ],
   "id": "3ff29db27f1ab93e",
   "outputs": [],
   "execution_count": 9
  },
  {
   "metadata": {
    "ExecuteTime": {
     "end_time": "2025-06-25T19:27:45.562651Z",
     "start_time": "2025-06-25T19:27:45.559533Z"
    }
   },
   "cell_type": "code",
   "source": [
    "def process_video(test_video, output_video):\n",
    "    input_video = moviepy.VideoFileClip(test_video, audio=False)\n",
    "    processed = input_video.image_transform(frame_processor)\n",
    "    processed.write_videofile(output_video, audio=False)\n"
   ],
   "id": "80b23aaae3d3f161",
   "outputs": [],
   "execution_count": 10
  },
  {
   "metadata": {
    "ExecuteTime": {
     "end_time": "2025-06-25T19:27:46.192865Z",
     "start_time": "2025-06-25T19:27:45.576827Z"
    }
   },
   "cell_type": "code",
   "source": "process_video(\"test2.mp4\", \"video_output.mp4\")",
   "id": "6c435ceeb2345843",
   "outputs": [
    {
     "name": "stdout",
     "output_type": "stream",
     "text": [
      "[  -1.79217404 1308.20631409]\n",
      "[   0.97294616 -270.43060771]\n"
     ]
    },
    {
     "ename": "TypeError",
     "evalue": "cannot unpack non-iterable NoneType object",
     "output_type": "error",
     "traceback": [
      "\u001B[1;31m---------------------------------------------------------------------------\u001B[0m",
      "\u001B[1;31mTypeError\u001B[0m                                 Traceback (most recent call last)",
      "Cell \u001B[1;32mIn[11], line 1\u001B[0m\n\u001B[1;32m----> 1\u001B[0m \u001B[43mprocess_video\u001B[49m\u001B[43m(\u001B[49m\u001B[38;5;124;43m\"\u001B[39;49m\u001B[38;5;124;43mtest2.mp4\u001B[39;49m\u001B[38;5;124;43m\"\u001B[39;49m\u001B[43m,\u001B[49m\u001B[43m \u001B[49m\u001B[38;5;124;43m\"\u001B[39;49m\u001B[38;5;124;43mvideo_output.mp4\u001B[39;49m\u001B[38;5;124;43m\"\u001B[39;49m\u001B[43m)\u001B[49m\n",
      "Cell \u001B[1;32mIn[10], line 3\u001B[0m, in \u001B[0;36mprocess_video\u001B[1;34m(test_video, output_video)\u001B[0m\n\u001B[0;32m      1\u001B[0m \u001B[38;5;28;01mdef\u001B[39;00m \u001B[38;5;21mprocess_video\u001B[39m(test_video, output_video):\n\u001B[0;32m      2\u001B[0m     input_video \u001B[38;5;241m=\u001B[39m moviepy\u001B[38;5;241m.\u001B[39mVideoFileClip(test_video, audio\u001B[38;5;241m=\u001B[39m\u001B[38;5;28;01mFalse\u001B[39;00m)\n\u001B[1;32m----> 3\u001B[0m     processed \u001B[38;5;241m=\u001B[39m \u001B[43minput_video\u001B[49m\u001B[38;5;241;43m.\u001B[39;49m\u001B[43mimage_transform\u001B[49m\u001B[43m(\u001B[49m\u001B[43mframe_processor\u001B[49m\u001B[43m)\u001B[49m\n\u001B[0;32m      4\u001B[0m     processed\u001B[38;5;241m.\u001B[39mwrite_videofile(output_video, audio\u001B[38;5;241m=\u001B[39m\u001B[38;5;28;01mFalse\u001B[39;00m)\n",
      "File \u001B[1;32m~\\AppData\\Local\\Programs\\Python\\Python312\\Lib\\site-packages\\moviepy\\video\\VideoClip.py:680\u001B[0m, in \u001B[0;36mVideoClip.image_transform\u001B[1;34m(self, image_func, apply_to)\u001B[0m\n\u001B[0;32m    676\u001B[0m \u001B[38;5;250m\u001B[39m\u001B[38;5;124;03m\"\"\"Modifies the images of a clip by replacing the frame `get_frame(t)` by\u001B[39;00m\n\u001B[0;32m    677\u001B[0m \u001B[38;5;124;03manother frame,  `image_func(get_frame(t))`.\u001B[39;00m\n\u001B[0;32m    678\u001B[0m \u001B[38;5;124;03m\"\"\"\u001B[39;00m\n\u001B[0;32m    679\u001B[0m apply_to \u001B[38;5;241m=\u001B[39m apply_to \u001B[38;5;129;01mor\u001B[39;00m []\n\u001B[1;32m--> 680\u001B[0m \u001B[38;5;28;01mreturn\u001B[39;00m \u001B[38;5;28;43mself\u001B[39;49m\u001B[38;5;241;43m.\u001B[39;49m\u001B[43mtransform\u001B[49m\u001B[43m(\u001B[49m\u001B[38;5;28;43;01mlambda\u001B[39;49;00m\u001B[43m \u001B[49m\u001B[43mget_frame\u001B[49m\u001B[43m,\u001B[49m\u001B[43m \u001B[49m\u001B[43mt\u001B[49m\u001B[43m:\u001B[49m\u001B[43m \u001B[49m\u001B[43mimage_func\u001B[49m\u001B[43m(\u001B[49m\u001B[43mget_frame\u001B[49m\u001B[43m(\u001B[49m\u001B[43mt\u001B[49m\u001B[43m)\u001B[49m\u001B[43m)\u001B[49m\u001B[43m,\u001B[49m\u001B[43m \u001B[49m\u001B[43mapply_to\u001B[49m\u001B[43m)\u001B[49m\n",
      "File \u001B[1;32m~\\AppData\\Local\\Programs\\Python\\Python312\\Lib\\site-packages\\moviepy\\Clip.py:130\u001B[0m, in \u001B[0;36mClip.transform\u001B[1;34m(self, func, apply_to, keep_duration)\u001B[0m\n\u001B[0;32m    127\u001B[0m     apply_to \u001B[38;5;241m=\u001B[39m []\n\u001B[0;32m    129\u001B[0m \u001B[38;5;66;03m# mf = copy(self.frame_function)\u001B[39;00m\n\u001B[1;32m--> 130\u001B[0m new_clip \u001B[38;5;241m=\u001B[39m \u001B[38;5;28;43mself\u001B[39;49m\u001B[38;5;241;43m.\u001B[39;49m\u001B[43mwith_updated_frame_function\u001B[49m\u001B[43m(\u001B[49m\u001B[38;5;28;43;01mlambda\u001B[39;49;00m\u001B[43m \u001B[49m\u001B[43mt\u001B[49m\u001B[43m:\u001B[49m\u001B[43m \u001B[49m\u001B[43mfunc\u001B[49m\u001B[43m(\u001B[49m\u001B[38;5;28;43mself\u001B[39;49m\u001B[38;5;241;43m.\u001B[39;49m\u001B[43mget_frame\u001B[49m\u001B[43m,\u001B[49m\u001B[43m \u001B[49m\u001B[43mt\u001B[49m\u001B[43m)\u001B[49m\u001B[43m)\u001B[49m\n\u001B[0;32m    132\u001B[0m \u001B[38;5;28;01mif\u001B[39;00m \u001B[38;5;129;01mnot\u001B[39;00m keep_duration:\n\u001B[0;32m    133\u001B[0m     new_clip\u001B[38;5;241m.\u001B[39mduration \u001B[38;5;241m=\u001B[39m \u001B[38;5;28;01mNone\u001B[39;00m\n",
      "File \u001B[1;32m<decorator-gen-91>:2\u001B[0m, in \u001B[0;36mwith_updated_frame_function\u001B[1;34m(self, frame_function)\u001B[0m\n",
      "File \u001B[1;32m~\\AppData\\Local\\Programs\\Python\\Python312\\Lib\\site-packages\\moviepy\\decorators.py:15\u001B[0m, in \u001B[0;36moutplace\u001B[1;34m(func, clip, *args, **kwargs)\u001B[0m\n\u001B[0;32m     13\u001B[0m \u001B[38;5;250m\u001B[39m\u001B[38;5;124;03m\"\"\"Applies ``func(clip.copy(), *args, **kwargs)`` and returns ``clip.copy()``.\"\"\"\u001B[39;00m\n\u001B[0;32m     14\u001B[0m new_clip \u001B[38;5;241m=\u001B[39m clip\u001B[38;5;241m.\u001B[39mcopy()\n\u001B[1;32m---> 15\u001B[0m \u001B[43mfunc\u001B[49m\u001B[43m(\u001B[49m\u001B[43mnew_clip\u001B[49m\u001B[43m,\u001B[49m\u001B[43m \u001B[49m\u001B[38;5;241;43m*\u001B[39;49m\u001B[43margs\u001B[49m\u001B[43m,\u001B[49m\u001B[43m \u001B[49m\u001B[38;5;241;43m*\u001B[39;49m\u001B[38;5;241;43m*\u001B[39;49m\u001B[43mkwargs\u001B[49m\u001B[43m)\u001B[49m\n\u001B[0;32m     16\u001B[0m \u001B[38;5;28;01mreturn\u001B[39;00m new_clip\n",
      "File \u001B[1;32m~\\AppData\\Local\\Programs\\Python\\Python312\\Lib\\site-packages\\moviepy\\video\\VideoClip.py:924\u001B[0m, in \u001B[0;36mVideoClip.with_updated_frame_function\u001B[1;34m(self, frame_function)\u001B[0m\n\u001B[0;32m    918\u001B[0m \u001B[38;5;250m\u001B[39m\u001B[38;5;124;03m\"\"\"Change the clip's ``get_frame``.\u001B[39;00m\n\u001B[0;32m    919\u001B[0m \n\u001B[0;32m    920\u001B[0m \u001B[38;5;124;03mReturns a copy of the VideoClip instance, with the frame_function\u001B[39;00m\n\u001B[0;32m    921\u001B[0m \u001B[38;5;124;03mattribute set to `mf`.\u001B[39;00m\n\u001B[0;32m    922\u001B[0m \u001B[38;5;124;03m\"\"\"\u001B[39;00m\n\u001B[0;32m    923\u001B[0m \u001B[38;5;28mself\u001B[39m\u001B[38;5;241m.\u001B[39mframe_function \u001B[38;5;241m=\u001B[39m frame_function\n\u001B[1;32m--> 924\u001B[0m \u001B[38;5;28mself\u001B[39m\u001B[38;5;241m.\u001B[39msize \u001B[38;5;241m=\u001B[39m \u001B[38;5;28;43mself\u001B[39;49m\u001B[38;5;241;43m.\u001B[39;49m\u001B[43mget_frame\u001B[49m\u001B[43m(\u001B[49m\u001B[38;5;241;43m0\u001B[39;49m\u001B[43m)\u001B[49m\u001B[38;5;241m.\u001B[39mshape[:\u001B[38;5;241m2\u001B[39m][::\u001B[38;5;241m-\u001B[39m\u001B[38;5;241m1\u001B[39m]\n",
      "File \u001B[1;32m<decorator-gen-35>:2\u001B[0m, in \u001B[0;36mget_frame\u001B[1;34m(self, t)\u001B[0m\n",
      "File \u001B[1;32m~\\AppData\\Local\\Programs\\Python\\Python312\\Lib\\site-packages\\moviepy\\decorators.py:102\u001B[0m, in \u001B[0;36mpreprocess_args.<locals>.decor.<locals>.wrapper\u001B[1;34m(func, *args, **kwargs)\u001B[0m\n\u001B[0;32m     90\u001B[0m new_args \u001B[38;5;241m=\u001B[39m [\n\u001B[0;32m     91\u001B[0m     (\n\u001B[0;32m     92\u001B[0m         preprocess_func(arg)\n\u001B[1;32m   (...)\u001B[0m\n\u001B[0;32m     96\u001B[0m     \u001B[38;5;28;01mfor\u001B[39;00m (arg, name) \u001B[38;5;129;01min\u001B[39;00m \u001B[38;5;28mzip\u001B[39m(args, argnames)\n\u001B[0;32m     97\u001B[0m ]\n\u001B[0;32m     98\u001B[0m new_kwargs \u001B[38;5;241m=\u001B[39m {\n\u001B[0;32m     99\u001B[0m     kwarg: preprocess_func(value) \u001B[38;5;28;01mif\u001B[39;00m kwarg \u001B[38;5;129;01min\u001B[39;00m varnames \u001B[38;5;28;01melse\u001B[39;00m value\n\u001B[0;32m    100\u001B[0m     \u001B[38;5;28;01mfor\u001B[39;00m (kwarg, value) \u001B[38;5;129;01min\u001B[39;00m kwargs\u001B[38;5;241m.\u001B[39mitems()\n\u001B[0;32m    101\u001B[0m }\n\u001B[1;32m--> 102\u001B[0m \u001B[38;5;28;01mreturn\u001B[39;00m \u001B[43mfunc\u001B[49m\u001B[43m(\u001B[49m\u001B[38;5;241;43m*\u001B[39;49m\u001B[43mnew_args\u001B[49m\u001B[43m,\u001B[49m\u001B[43m \u001B[49m\u001B[38;5;241;43m*\u001B[39;49m\u001B[38;5;241;43m*\u001B[39;49m\u001B[43mnew_kwargs\u001B[49m\u001B[43m)\u001B[49m\n",
      "File \u001B[1;32m~\\AppData\\Local\\Programs\\Python\\Python312\\Lib\\site-packages\\moviepy\\Clip.py:87\u001B[0m, in \u001B[0;36mClip.get_frame\u001B[1;34m(self, t)\u001B[0m\n\u001B[0;32m     85\u001B[0m         \u001B[38;5;28;01mreturn\u001B[39;00m frame\n\u001B[0;32m     86\u001B[0m \u001B[38;5;28;01melse\u001B[39;00m:\n\u001B[1;32m---> 87\u001B[0m     \u001B[38;5;28;01mreturn\u001B[39;00m \u001B[38;5;28;43mself\u001B[39;49m\u001B[38;5;241;43m.\u001B[39;49m\u001B[43mframe_function\u001B[49m\u001B[43m(\u001B[49m\u001B[43mt\u001B[49m\u001B[43m)\u001B[49m\n",
      "File \u001B[1;32m~\\AppData\\Local\\Programs\\Python\\Python312\\Lib\\site-packages\\moviepy\\Clip.py:130\u001B[0m, in \u001B[0;36mClip.transform.<locals>.<lambda>\u001B[1;34m(t)\u001B[0m\n\u001B[0;32m    127\u001B[0m     apply_to \u001B[38;5;241m=\u001B[39m []\n\u001B[0;32m    129\u001B[0m \u001B[38;5;66;03m# mf = copy(self.frame_function)\u001B[39;00m\n\u001B[1;32m--> 130\u001B[0m new_clip \u001B[38;5;241m=\u001B[39m \u001B[38;5;28mself\u001B[39m\u001B[38;5;241m.\u001B[39mwith_updated_frame_function(\u001B[38;5;28;01mlambda\u001B[39;00m t: \u001B[43mfunc\u001B[49m\u001B[43m(\u001B[49m\u001B[38;5;28;43mself\u001B[39;49m\u001B[38;5;241;43m.\u001B[39;49m\u001B[43mget_frame\u001B[49m\u001B[43m,\u001B[49m\u001B[43m \u001B[49m\u001B[43mt\u001B[49m\u001B[43m)\u001B[49m)\n\u001B[0;32m    132\u001B[0m \u001B[38;5;28;01mif\u001B[39;00m \u001B[38;5;129;01mnot\u001B[39;00m keep_duration:\n\u001B[0;32m    133\u001B[0m     new_clip\u001B[38;5;241m.\u001B[39mduration \u001B[38;5;241m=\u001B[39m \u001B[38;5;28;01mNone\u001B[39;00m\n",
      "File \u001B[1;32m~\\AppData\\Local\\Programs\\Python\\Python312\\Lib\\site-packages\\moviepy\\video\\VideoClip.py:680\u001B[0m, in \u001B[0;36mVideoClip.image_transform.<locals>.<lambda>\u001B[1;34m(get_frame, t)\u001B[0m\n\u001B[0;32m    676\u001B[0m \u001B[38;5;250m\u001B[39m\u001B[38;5;124;03m\"\"\"Modifies the images of a clip by replacing the frame `get_frame(t)` by\u001B[39;00m\n\u001B[0;32m    677\u001B[0m \u001B[38;5;124;03manother frame,  `image_func(get_frame(t))`.\u001B[39;00m\n\u001B[0;32m    678\u001B[0m \u001B[38;5;124;03m\"\"\"\u001B[39;00m\n\u001B[0;32m    679\u001B[0m apply_to \u001B[38;5;241m=\u001B[39m apply_to \u001B[38;5;129;01mor\u001B[39;00m []\n\u001B[1;32m--> 680\u001B[0m \u001B[38;5;28;01mreturn\u001B[39;00m \u001B[38;5;28mself\u001B[39m\u001B[38;5;241m.\u001B[39mtransform(\u001B[38;5;28;01mlambda\u001B[39;00m get_frame, t: \u001B[43mimage_func\u001B[49m\u001B[43m(\u001B[49m\u001B[43mget_frame\u001B[49m\u001B[43m(\u001B[49m\u001B[43mt\u001B[49m\u001B[43m)\u001B[49m\u001B[43m)\u001B[49m, apply_to)\n",
      "Cell \u001B[1;32mIn[9], line 10\u001B[0m, in \u001B[0;36mframe_processor\u001B[1;34m(image)\u001B[0m\n\u001B[0;32m      8\u001B[0m region \u001B[38;5;241m=\u001B[39m region_selection(edges)\n\u001B[0;32m      9\u001B[0m hough \u001B[38;5;241m=\u001B[39m hough_transform(region)\n\u001B[1;32m---> 10\u001B[0m result \u001B[38;5;241m=\u001B[39m draw_lane_lines(image, \u001B[43mlane_lines\u001B[49m\u001B[43m(\u001B[49m\u001B[43mimage\u001B[49m\u001B[43m,\u001B[49m\u001B[43m \u001B[49m\u001B[43mhough\u001B[49m\u001B[43m)\u001B[49m)\n\u001B[0;32m     11\u001B[0m \u001B[38;5;28;01mreturn\u001B[39;00m result\n",
      "Cell \u001B[1;32mIn[7], line 3\u001B[0m, in \u001B[0;36mlane_lines\u001B[1;34m(image, lines)\u001B[0m\n\u001B[0;32m      1\u001B[0m \u001B[38;5;28;01mdef\u001B[39;00m \u001B[38;5;21mlane_lines\u001B[39m(image, lines):\n\u001B[0;32m      2\u001B[0m     \u001B[38;5;28;01mif\u001B[39;00m lines \u001B[38;5;129;01mis\u001B[39;00m \u001B[38;5;129;01mnot\u001B[39;00m \u001B[38;5;28;01mNone\u001B[39;00m:\n\u001B[1;32m----> 3\u001B[0m         left_lane, right_lane \u001B[38;5;241m=\u001B[39m average_slope_intercept(lines)\n\u001B[0;32m      4\u001B[0m         y1 \u001B[38;5;241m=\u001B[39m image\u001B[38;5;241m.\u001B[39mshape[\u001B[38;5;241m0\u001B[39m]\n\u001B[0;32m      5\u001B[0m         y2 \u001B[38;5;241m=\u001B[39m y1\u001B[38;5;241m*\u001B[39m\u001B[38;5;241m0.6\u001B[39m\n",
      "\u001B[1;31mTypeError\u001B[0m: cannot unpack non-iterable NoneType object"
     ]
    }
   ],
   "execution_count": 11
  },
  {
   "metadata": {},
   "cell_type": "code",
   "outputs": [],
   "execution_count": null,
   "source": "",
   "id": "2fc24c2db2401e2c"
  },
  {
   "metadata": {},
   "cell_type": "code",
   "outputs": [],
   "execution_count": null,
   "source": "",
   "id": "9cc0b5c045812511"
  },
  {
   "metadata": {},
   "cell_type": "code",
   "outputs": [],
   "execution_count": null,
   "source": "",
   "id": "c94de18b067f1f48"
  },
  {
   "metadata": {},
   "cell_type": "code",
   "outputs": [],
   "execution_count": null,
   "source": "",
   "id": "f3aeb5a08e3d6c52"
  }
 ],
 "metadata": {
  "kernelspec": {
   "display_name": "Python 3",
   "language": "python",
   "name": "python3"
  },
  "language_info": {
   "codemirror_mode": {
    "name": "ipython",
    "version": 2
   },
   "file_extension": ".py",
   "mimetype": "text/x-python",
   "name": "python",
   "nbconvert_exporter": "python",
   "pygments_lexer": "ipython2",
   "version": "2.7.6"
  }
 },
 "nbformat": 4,
 "nbformat_minor": 5
}
